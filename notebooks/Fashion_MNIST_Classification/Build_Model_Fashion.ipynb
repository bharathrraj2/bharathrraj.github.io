{
 "cells": [
  {
   "cell_type": "markdown",
   "metadata": {},
   "source": [
    "# CASE STUDY: FASHION CLASS CLASSIFICATION\n",
    "\n",
    "### PROBLEM STATEMENT AND BUSINESS CASE\n",
    "\n",
    "Fashion training set consists of 70,000 images divided into 60,000 training and 10,000 testing samples. Dataset sample consists of 28x28 grayscale image, associated with a label from 10 classes.\n",
    "\n",
    "The 10 classes are as follows:\n",
    "0 => T-shirt/top 1 => Trouser 2 => Pullover 3 => Dress 4 => Coat 5 => Sandal 6 => Shirt 7 => Sneaker 8 => Bag 9 => Ankle boot\n",
    "\n",
    "Each image is 28 pixels in height and 28 pixels in width, for a total of 784 pixels in total. Each pixel has a single pixel-value associated with it, indicating the lightness or darkness of that pixel, with higher numbers meaning darker. This pixel-value is an integer between 0 and 255.\n",
    "\n",
    "\n"
   ]
  },
  {
   "cell_type": "markdown",
   "metadata": {},
   "source": [
    "#  Importing Data and Reshaping"
   ]
  },
  {
   "cell_type": "code",
   "execution_count": 204,
   "metadata": {},
   "outputs": [],
   "source": [
    "from keras.preprocessing.image import ImageDataGenerator\n",
    "import pandas as pd # Import Pandas for data manipulation using dataframes\n",
    "import numpy as np # Import Numpy for data statistical analysis \n",
    "import matplotlib.pyplot as plt # Import matplotlib for data visualisation\n",
    "import seaborn as sns\n",
    "import random"
   ]
  },
  {
   "cell_type": "code",
   "execution_count": 205,
   "metadata": {},
   "outputs": [],
   "source": [
    "fashion_train_df = pd.read_csv('./fashion-mnist_train.csv',sep=',')\n",
    "fashion_test_df = pd.read_csv('./fashion-mnist_test.csv', sep = ',')"
   ]
  },
  {
   "cell_type": "code",
   "execution_count": 206,
   "metadata": {},
   "outputs": [
    {
     "data": {
      "text/html": [
       "<div>\n",
       "<style scoped>\n",
       "    .dataframe tbody tr th:only-of-type {\n",
       "        vertical-align: middle;\n",
       "    }\n",
       "\n",
       "    .dataframe tbody tr th {\n",
       "        vertical-align: top;\n",
       "    }\n",
       "\n",
       "    .dataframe thead th {\n",
       "        text-align: right;\n",
       "    }\n",
       "</style>\n",
       "<table border=\"1\" class=\"dataframe\">\n",
       "  <thead>\n",
       "    <tr style=\"text-align: right;\">\n",
       "      <th></th>\n",
       "      <th>label</th>\n",
       "      <th>pixel1</th>\n",
       "      <th>pixel2</th>\n",
       "      <th>pixel3</th>\n",
       "      <th>pixel4</th>\n",
       "      <th>pixel5</th>\n",
       "      <th>pixel6</th>\n",
       "      <th>pixel7</th>\n",
       "      <th>pixel8</th>\n",
       "      <th>pixel9</th>\n",
       "      <th>...</th>\n",
       "      <th>pixel775</th>\n",
       "      <th>pixel776</th>\n",
       "      <th>pixel777</th>\n",
       "      <th>pixel778</th>\n",
       "      <th>pixel779</th>\n",
       "      <th>pixel780</th>\n",
       "      <th>pixel781</th>\n",
       "      <th>pixel782</th>\n",
       "      <th>pixel783</th>\n",
       "      <th>pixel784</th>\n",
       "    </tr>\n",
       "  </thead>\n",
       "  <tbody>\n",
       "    <tr>\n",
       "      <th>0</th>\n",
       "      <td>2</td>\n",
       "      <td>0</td>\n",
       "      <td>0</td>\n",
       "      <td>0</td>\n",
       "      <td>0</td>\n",
       "      <td>0</td>\n",
       "      <td>0</td>\n",
       "      <td>0</td>\n",
       "      <td>0</td>\n",
       "      <td>0</td>\n",
       "      <td>...</td>\n",
       "      <td>0</td>\n",
       "      <td>0</td>\n",
       "      <td>0</td>\n",
       "      <td>0</td>\n",
       "      <td>0</td>\n",
       "      <td>0</td>\n",
       "      <td>0</td>\n",
       "      <td>0</td>\n",
       "      <td>0</td>\n",
       "      <td>0</td>\n",
       "    </tr>\n",
       "    <tr>\n",
       "      <th>1</th>\n",
       "      <td>9</td>\n",
       "      <td>0</td>\n",
       "      <td>0</td>\n",
       "      <td>0</td>\n",
       "      <td>0</td>\n",
       "      <td>0</td>\n",
       "      <td>0</td>\n",
       "      <td>0</td>\n",
       "      <td>0</td>\n",
       "      <td>0</td>\n",
       "      <td>...</td>\n",
       "      <td>0</td>\n",
       "      <td>0</td>\n",
       "      <td>0</td>\n",
       "      <td>0</td>\n",
       "      <td>0</td>\n",
       "      <td>0</td>\n",
       "      <td>0</td>\n",
       "      <td>0</td>\n",
       "      <td>0</td>\n",
       "      <td>0</td>\n",
       "    </tr>\n",
       "    <tr>\n",
       "      <th>2</th>\n",
       "      <td>6</td>\n",
       "      <td>0</td>\n",
       "      <td>0</td>\n",
       "      <td>0</td>\n",
       "      <td>0</td>\n",
       "      <td>0</td>\n",
       "      <td>0</td>\n",
       "      <td>0</td>\n",
       "      <td>5</td>\n",
       "      <td>0</td>\n",
       "      <td>...</td>\n",
       "      <td>0</td>\n",
       "      <td>0</td>\n",
       "      <td>0</td>\n",
       "      <td>30</td>\n",
       "      <td>43</td>\n",
       "      <td>0</td>\n",
       "      <td>0</td>\n",
       "      <td>0</td>\n",
       "      <td>0</td>\n",
       "      <td>0</td>\n",
       "    </tr>\n",
       "    <tr>\n",
       "      <th>3</th>\n",
       "      <td>0</td>\n",
       "      <td>0</td>\n",
       "      <td>0</td>\n",
       "      <td>0</td>\n",
       "      <td>1</td>\n",
       "      <td>2</td>\n",
       "      <td>0</td>\n",
       "      <td>0</td>\n",
       "      <td>0</td>\n",
       "      <td>0</td>\n",
       "      <td>...</td>\n",
       "      <td>3</td>\n",
       "      <td>0</td>\n",
       "      <td>0</td>\n",
       "      <td>0</td>\n",
       "      <td>0</td>\n",
       "      <td>1</td>\n",
       "      <td>0</td>\n",
       "      <td>0</td>\n",
       "      <td>0</td>\n",
       "      <td>0</td>\n",
       "    </tr>\n",
       "    <tr>\n",
       "      <th>4</th>\n",
       "      <td>3</td>\n",
       "      <td>0</td>\n",
       "      <td>0</td>\n",
       "      <td>0</td>\n",
       "      <td>0</td>\n",
       "      <td>0</td>\n",
       "      <td>0</td>\n",
       "      <td>0</td>\n",
       "      <td>0</td>\n",
       "      <td>0</td>\n",
       "      <td>...</td>\n",
       "      <td>0</td>\n",
       "      <td>0</td>\n",
       "      <td>0</td>\n",
       "      <td>0</td>\n",
       "      <td>0</td>\n",
       "      <td>0</td>\n",
       "      <td>0</td>\n",
       "      <td>0</td>\n",
       "      <td>0</td>\n",
       "      <td>0</td>\n",
       "    </tr>\n",
       "  </tbody>\n",
       "</table>\n",
       "<p>5 rows × 785 columns</p>\n",
       "</div>"
      ],
      "text/plain": [
       "   label  pixel1  pixel2  pixel3  pixel4  pixel5  pixel6  pixel7  pixel8  \\\n",
       "0      2       0       0       0       0       0       0       0       0   \n",
       "1      9       0       0       0       0       0       0       0       0   \n",
       "2      6       0       0       0       0       0       0       0       5   \n",
       "3      0       0       0       0       1       2       0       0       0   \n",
       "4      3       0       0       0       0       0       0       0       0   \n",
       "\n",
       "   pixel9  ...  pixel775  pixel776  pixel777  pixel778  pixel779  pixel780  \\\n",
       "0       0  ...         0         0         0         0         0         0   \n",
       "1       0  ...         0         0         0         0         0         0   \n",
       "2       0  ...         0         0         0        30        43         0   \n",
       "3       0  ...         3         0         0         0         0         1   \n",
       "4       0  ...         0         0         0         0         0         0   \n",
       "\n",
       "   pixel781  pixel782  pixel783  pixel784  \n",
       "0         0         0         0         0  \n",
       "1         0         0         0         0  \n",
       "2         0         0         0         0  \n",
       "3         0         0         0         0  \n",
       "4         0         0         0         0  \n",
       "\n",
       "[5 rows x 785 columns]"
      ]
     },
     "execution_count": 206,
     "metadata": {},
     "output_type": "execute_result"
    }
   ],
   "source": [
    "fashion_train_df.head()"
   ]
  },
  {
   "cell_type": "code",
   "execution_count": 207,
   "metadata": {},
   "outputs": [
    {
     "data": {
      "text/plain": [
       "(60000, 785)"
      ]
     },
     "execution_count": 207,
     "metadata": {},
     "output_type": "execute_result"
    }
   ],
   "source": [
    "fashion_train_df.shape"
   ]
  },
  {
   "cell_type": "code",
   "execution_count": 208,
   "metadata": {},
   "outputs": [
    {
     "data": {
      "text/plain": [
       "(10000, 785)"
      ]
     },
     "execution_count": 208,
     "metadata": {},
     "output_type": "execute_result"
    }
   ],
   "source": [
    "fashion_test_df.shape"
   ]
  },
  {
   "cell_type": "code",
   "execution_count": 209,
   "metadata": {},
   "outputs": [],
   "source": [
    "fashion_train_df['filename']=list(range(0,60000))\n",
    "fashion_train_df['filename']=fashion_train_df['filename'].apply(lambda x: str(x)+'.png')"
   ]
  },
  {
   "cell_type": "code",
   "execution_count": 210,
   "metadata": {},
   "outputs": [],
   "source": [
    "fashion_test_df['filename']=list(range(0,10000))\n",
    "fashion_test_df['filename']=fashion_test_df['filename'].apply(lambda x: str(x)+'.png')"
   ]
  },
  {
   "cell_type": "code",
   "execution_count": 211,
   "metadata": {},
   "outputs": [
    {
     "data": {
      "text/html": [
       "<div>\n",
       "<style scoped>\n",
       "    .dataframe tbody tr th:only-of-type {\n",
       "        vertical-align: middle;\n",
       "    }\n",
       "\n",
       "    .dataframe tbody tr th {\n",
       "        vertical-align: top;\n",
       "    }\n",
       "\n",
       "    .dataframe thead th {\n",
       "        text-align: right;\n",
       "    }\n",
       "</style>\n",
       "<table border=\"1\" class=\"dataframe\">\n",
       "  <thead>\n",
       "    <tr style=\"text-align: right;\">\n",
       "      <th></th>\n",
       "      <th>label</th>\n",
       "      <th>pixel1</th>\n",
       "      <th>pixel2</th>\n",
       "      <th>pixel3</th>\n",
       "      <th>pixel4</th>\n",
       "      <th>pixel5</th>\n",
       "      <th>pixel6</th>\n",
       "      <th>pixel7</th>\n",
       "      <th>pixel8</th>\n",
       "      <th>pixel9</th>\n",
       "      <th>...</th>\n",
       "      <th>pixel776</th>\n",
       "      <th>pixel777</th>\n",
       "      <th>pixel778</th>\n",
       "      <th>pixel779</th>\n",
       "      <th>pixel780</th>\n",
       "      <th>pixel781</th>\n",
       "      <th>pixel782</th>\n",
       "      <th>pixel783</th>\n",
       "      <th>pixel784</th>\n",
       "      <th>filename</th>\n",
       "    </tr>\n",
       "  </thead>\n",
       "  <tbody>\n",
       "    <tr>\n",
       "      <th>59995</th>\n",
       "      <td>9</td>\n",
       "      <td>0</td>\n",
       "      <td>0</td>\n",
       "      <td>0</td>\n",
       "      <td>0</td>\n",
       "      <td>0</td>\n",
       "      <td>0</td>\n",
       "      <td>0</td>\n",
       "      <td>0</td>\n",
       "      <td>0</td>\n",
       "      <td>...</td>\n",
       "      <td>0</td>\n",
       "      <td>0</td>\n",
       "      <td>0</td>\n",
       "      <td>0</td>\n",
       "      <td>0</td>\n",
       "      <td>0</td>\n",
       "      <td>0</td>\n",
       "      <td>0</td>\n",
       "      <td>0</td>\n",
       "      <td>59995.png</td>\n",
       "    </tr>\n",
       "    <tr>\n",
       "      <th>59996</th>\n",
       "      <td>1</td>\n",
       "      <td>0</td>\n",
       "      <td>0</td>\n",
       "      <td>0</td>\n",
       "      <td>0</td>\n",
       "      <td>0</td>\n",
       "      <td>0</td>\n",
       "      <td>0</td>\n",
       "      <td>0</td>\n",
       "      <td>0</td>\n",
       "      <td>...</td>\n",
       "      <td>0</td>\n",
       "      <td>0</td>\n",
       "      <td>0</td>\n",
       "      <td>0</td>\n",
       "      <td>0</td>\n",
       "      <td>0</td>\n",
       "      <td>0</td>\n",
       "      <td>0</td>\n",
       "      <td>0</td>\n",
       "      <td>59996.png</td>\n",
       "    </tr>\n",
       "    <tr>\n",
       "      <th>59997</th>\n",
       "      <td>8</td>\n",
       "      <td>0</td>\n",
       "      <td>0</td>\n",
       "      <td>0</td>\n",
       "      <td>0</td>\n",
       "      <td>0</td>\n",
       "      <td>0</td>\n",
       "      <td>0</td>\n",
       "      <td>0</td>\n",
       "      <td>0</td>\n",
       "      <td>...</td>\n",
       "      <td>162</td>\n",
       "      <td>163</td>\n",
       "      <td>135</td>\n",
       "      <td>94</td>\n",
       "      <td>0</td>\n",
       "      <td>0</td>\n",
       "      <td>0</td>\n",
       "      <td>0</td>\n",
       "      <td>0</td>\n",
       "      <td>59997.png</td>\n",
       "    </tr>\n",
       "    <tr>\n",
       "      <th>59998</th>\n",
       "      <td>8</td>\n",
       "      <td>0</td>\n",
       "      <td>0</td>\n",
       "      <td>0</td>\n",
       "      <td>0</td>\n",
       "      <td>0</td>\n",
       "      <td>0</td>\n",
       "      <td>0</td>\n",
       "      <td>0</td>\n",
       "      <td>0</td>\n",
       "      <td>...</td>\n",
       "      <td>0</td>\n",
       "      <td>0</td>\n",
       "      <td>0</td>\n",
       "      <td>0</td>\n",
       "      <td>0</td>\n",
       "      <td>0</td>\n",
       "      <td>0</td>\n",
       "      <td>0</td>\n",
       "      <td>0</td>\n",
       "      <td>59998.png</td>\n",
       "    </tr>\n",
       "    <tr>\n",
       "      <th>59999</th>\n",
       "      <td>7</td>\n",
       "      <td>0</td>\n",
       "      <td>0</td>\n",
       "      <td>0</td>\n",
       "      <td>0</td>\n",
       "      <td>0</td>\n",
       "      <td>0</td>\n",
       "      <td>0</td>\n",
       "      <td>0</td>\n",
       "      <td>0</td>\n",
       "      <td>...</td>\n",
       "      <td>0</td>\n",
       "      <td>0</td>\n",
       "      <td>0</td>\n",
       "      <td>0</td>\n",
       "      <td>0</td>\n",
       "      <td>0</td>\n",
       "      <td>0</td>\n",
       "      <td>0</td>\n",
       "      <td>0</td>\n",
       "      <td>59999.png</td>\n",
       "    </tr>\n",
       "  </tbody>\n",
       "</table>\n",
       "<p>5 rows × 786 columns</p>\n",
       "</div>"
      ],
      "text/plain": [
       "       label  pixel1  pixel2  pixel3  pixel4  pixel5  pixel6  pixel7  pixel8  \\\n",
       "59995      9       0       0       0       0       0       0       0       0   \n",
       "59996      1       0       0       0       0       0       0       0       0   \n",
       "59997      8       0       0       0       0       0       0       0       0   \n",
       "59998      8       0       0       0       0       0       0       0       0   \n",
       "59999      7       0       0       0       0       0       0       0       0   \n",
       "\n",
       "       pixel9  ...  pixel776  pixel777  pixel778  pixel779  pixel780  \\\n",
       "59995       0  ...         0         0         0         0         0   \n",
       "59996       0  ...         0         0         0         0         0   \n",
       "59997       0  ...       162       163       135        94         0   \n",
       "59998       0  ...         0         0         0         0         0   \n",
       "59999       0  ...         0         0         0         0         0   \n",
       "\n",
       "       pixel781  pixel782  pixel783  pixel784   filename  \n",
       "59995         0         0         0         0  59995.png  \n",
       "59996         0         0         0         0  59996.png  \n",
       "59997         0         0         0         0  59997.png  \n",
       "59998         0         0         0         0  59998.png  \n",
       "59999         0         0         0         0  59999.png  \n",
       "\n",
       "[5 rows x 786 columns]"
      ]
     },
     "execution_count": 211,
     "metadata": {},
     "output_type": "execute_result"
    }
   ],
   "source": [
    "fashion_train_df.tail()"
   ]
  },
  {
   "cell_type": "markdown",
   "metadata": {},
   "source": [
    "### Entire set of images are in a single dataframe, to use generators later we will write the individual images to file in train/ and test/ folders"
   ]
  },
  {
   "cell_type": "code",
   "execution_count": 212,
   "metadata": {},
   "outputs": [],
   "source": [
    "import cv2"
   ]
  },
  {
   "cell_type": "code",
   "execution_count": null,
   "metadata": {},
   "outputs": [],
   "source": [
    "for row in fashion_train_df.values:\n",
    "    img = np.array(row[1:-1]).reshape(28,28)\n",
    "    img=img.astype('uint8')\n",
    "    filename = 'train/'+row[-1]\n",
    "    cv2.imwrite(filename, img)\n"
   ]
  },
  {
   "cell_type": "code",
   "execution_count": null,
   "metadata": {},
   "outputs": [],
   "source": [
    "for row in fashion_test_df.values:\n",
    "    img = np.array(row[1:-1]).reshape(28,28)\n",
    "    img=img.astype('uint8')\n",
    "    filename = 'test/'+row[-1]\n",
    "    cv2.imwrite(filename, img)\n",
    "\n"
   ]
  },
  {
   "cell_type": "markdown",
   "metadata": {},
   "source": [
    "# Re-Import data with required columns only"
   ]
  },
  {
   "cell_type": "code",
   "execution_count": 213,
   "metadata": {},
   "outputs": [],
   "source": [
    "fashion_train_df = pd.read_csv('./fashion-mnist_train.csv',sep=',',usecols=['label'])\n",
    "fashion_test_df = pd.read_csv('./fashion-mnist_test.csv', sep = ',',usecols=['label'])"
   ]
  },
  {
   "cell_type": "code",
   "execution_count": 214,
   "metadata": {},
   "outputs": [],
   "source": [
    "fashion_train_df['filename']=list(range(0,60000))\n",
    "fashion_train_df['filename']=fashion_train_df['filename'].apply(lambda x: str(x)+'.png')\n",
    "fashion_test_df['filename']=list(range(0,10000))\n",
    "fashion_test_df['filename']=fashion_test_df['filename'].apply(lambda x: str(x)+'.png')"
   ]
  },
  {
   "cell_type": "code",
   "execution_count": 215,
   "metadata": {},
   "outputs": [
    {
     "data": {
      "text/html": [
       "<div>\n",
       "<style scoped>\n",
       "    .dataframe tbody tr th:only-of-type {\n",
       "        vertical-align: middle;\n",
       "    }\n",
       "\n",
       "    .dataframe tbody tr th {\n",
       "        vertical-align: top;\n",
       "    }\n",
       "\n",
       "    .dataframe thead th {\n",
       "        text-align: right;\n",
       "    }\n",
       "</style>\n",
       "<table border=\"1\" class=\"dataframe\">\n",
       "  <thead>\n",
       "    <tr style=\"text-align: right;\">\n",
       "      <th></th>\n",
       "      <th>label</th>\n",
       "      <th>filename</th>\n",
       "    </tr>\n",
       "  </thead>\n",
       "  <tbody>\n",
       "    <tr>\n",
       "      <th>0</th>\n",
       "      <td>0</td>\n",
       "      <td>0.png</td>\n",
       "    </tr>\n",
       "    <tr>\n",
       "      <th>1</th>\n",
       "      <td>1</td>\n",
       "      <td>1.png</td>\n",
       "    </tr>\n",
       "    <tr>\n",
       "      <th>2</th>\n",
       "      <td>2</td>\n",
       "      <td>2.png</td>\n",
       "    </tr>\n",
       "    <tr>\n",
       "      <th>3</th>\n",
       "      <td>2</td>\n",
       "      <td>3.png</td>\n",
       "    </tr>\n",
       "    <tr>\n",
       "      <th>4</th>\n",
       "      <td>3</td>\n",
       "      <td>4.png</td>\n",
       "    </tr>\n",
       "  </tbody>\n",
       "</table>\n",
       "</div>"
      ],
      "text/plain": [
       "   label filename\n",
       "0      0    0.png\n",
       "1      1    1.png\n",
       "2      2    2.png\n",
       "3      2    3.png\n",
       "4      3    4.png"
      ]
     },
     "execution_count": 215,
     "metadata": {},
     "output_type": "execute_result"
    }
   ],
   "source": [
    "fashion_test_df.head()"
   ]
  },
  {
   "cell_type": "markdown",
   "metadata": {},
   "source": [
    "# Create Image Generator"
   ]
  },
  {
   "cell_type": "code",
   "execution_count": 8,
   "metadata": {},
   "outputs": [],
   "source": [
    "train_datagen = ImageDataGenerator(rescale=1./255)\n",
    "test_datagen = ImageDataGenerator(rescale=1./255)"
   ]
  },
  {
   "cell_type": "code",
   "execution_count": 235,
   "metadata": {},
   "outputs": [
    {
     "data": {
      "text/plain": [
       "'\\ntrain_datagen = ImageDataGenerator(\\n                                    rescale=1./255,\\n                                    shear_range=0.2,\\n                                    zoom_range=0.2,\\n                                    horizontal_flip=True)\\n\\ntest_datagen = ImageDataGenerator(rescale=1./255)\\n'"
      ]
     },
     "execution_count": 235,
     "metadata": {},
     "output_type": "execute_result"
    }
   ],
   "source": [
    "#### If required we can perform shearing/zooming and increase the input images. \n",
    "'''\n",
    "train_datagen = ImageDataGenerator(\n",
    "                                    rescale=1./255,\n",
    "                                    shear_range=0.2,\n",
    "                                    zoom_range=0.2,\n",
    "                                    horizontal_flip=True)\n",
    "\n",
    "test_datagen = ImageDataGenerator(rescale=1./255)\n",
    "'''"
   ]
  },
  {
   "cell_type": "code",
   "execution_count": 9,
   "metadata": {},
   "outputs": [
    {
     "name": "stdout",
     "output_type": "stream",
     "text": [
      "Found 60000 images.\n"
     ]
    }
   ],
   "source": [
    "train_generator=train_datagen.flow_from_dataframe(\n",
    "    dataframe=fashion_train_df, directory='train/', x_col='filename', y_col=\"label\", color_mode = 'grayscale',class_mode=\"other\", target_size=(28,28), batch_size=32)"
   ]
  },
  {
   "cell_type": "code",
   "execution_count": 28,
   "metadata": {},
   "outputs": [
    {
     "name": "stdout",
     "output_type": "stream",
     "text": [
      "Found 10000 images.\n"
     ]
    }
   ],
   "source": [
    "test_generator=test_datagen.flow_from_dataframe(\n",
    "    dataframe=fashion_test_df, directory='test/', x_col='filename', y_col=\"label\", color_mode = 'grayscale',class_mode=\"other\", target_size=(28,28), batch_size=32)"
   ]
  },
  {
   "cell_type": "markdown",
   "metadata": {},
   "source": [
    "#### Loading images from the folder and using the dataframe to map the image to its corresponding classes"
   ]
  },
  {
   "cell_type": "markdown",
   "metadata": {},
   "source": [
    "# Quick EDA"
   ]
  },
  {
   "cell_type": "code",
   "execution_count": 13,
   "metadata": {},
   "outputs": [
    {
     "data": {
      "text/plain": [
       "<matplotlib.axes._subplots.AxesSubplot at 0x14bba79e8>"
      ]
     },
     "execution_count": 13,
     "metadata": {},
     "output_type": "execute_result"
    },
    {
     "data": {
      "image/png": "[encoded data removed]",
      "text/plain": [
       "<Figure size 432x288 with 1 Axes>"
      ]
     },
     "metadata": {
      "needs_background": "light"
     },
     "output_type": "display_data"
    }
   ],
   "source": [
    "sns.countplot(fashion_train_df.label)"
   ]
  },
  {
   "cell_type": "code",
   "execution_count": 14,
   "metadata": {},
   "outputs": [
    {
     "data": {
      "text/plain": [
       "<matplotlib.axes._subplots.AxesSubplot at 0x14a318588>"
      ]
     },
     "execution_count": 14,
     "metadata": {},
     "output_type": "execute_result"
    },
    {
     "data": {
      "image/png": "[encoded data removed]",
      "text/plain": [
       "<Figure size 432x288 with 1 Axes>"
      ]
     },
     "metadata": {
      "needs_background": "light"
     },
     "output_type": "display_data"
    }
   ],
   "source": [
    "sns.countplot(fashion_test_df.label)"
   ]
  },
  {
   "cell_type": "markdown",
   "metadata": {},
   "source": [
    "#### Both Train and Test data are balanced"
   ]
  },
  {
   "cell_type": "markdown",
   "metadata": {},
   "source": [
    "# Plot Sample Images"
   ]
  },
  {
   "cell_type": "code",
   "execution_count": 24,
   "metadata": {},
   "outputs": [],
   "source": [
    "class ImageViewer:\n",
    "    def read_img(self,id, folder='train'):\n",
    "        file=folder + '/' + str(id)\n",
    "        im=cv2.imread(file)\n",
    "        return im\n",
    "\n",
    "    def draw_sample_images(self):\n",
    "        ncols=4\n",
    "        nrows = 10\n",
    "        f, ax = plt.subplots(nrows=nrows,ncols=ncols, \n",
    "                             figsize=(4*ncols,5*nrows))\n",
    "        i=-1\n",
    "        captions=['T-shirt/top','Trouser','Pullover','Dress','Coat','Sandal','Shirt','Sneaker','Bag','Ankle boot']\n",
    "        for label in [0,1,2,3,4,5,6,7,8,9]:\n",
    "            i=i+1\n",
    "            samples = fashion_train_df[fashion_train_df['label']==label]['filename'].sample(ncols).values\n",
    "            for j in range(0,ncols):\n",
    "                file_id=samples[j]\n",
    "                im=self.read_img(file_id)\n",
    "                ax[i, j].imshow(im)\n",
    "                ax[i, j].set_title(captions[i], fontsize=16)  \n",
    "        plt.tight_layout()\n",
    "        plt.show()"
   ]
  },
  {
   "cell_type": "code",
   "execution_count": 25,
   "metadata": {},
   "outputs": [
    {
     "data": {
      "image/png": "[encoded data removed]",
      "text/plain": [
       "<Figure size 1152x3600 with 40 Axes>"
      ]
     },
     "metadata": {
      "needs_background": "light"
     },
     "output_type": "display_data"
    }
   ],
   "source": [
    "ImageViewer().draw_sample_images()"
   ]
  },
  {
   "cell_type": "markdown",
   "metadata": {},
   "source": [
    "# Building Model"
   ]
  },
  {
   "cell_type": "code",
   "execution_count": 27,
   "metadata": {},
   "outputs": [
    {
     "name": "stderr",
     "output_type": "stream",
     "text": [
      "/Users/bharath/anaconda3/lib/python3.7/site-packages/ipykernel_launcher.py:20: UserWarning: Update your `Conv2D` call to the Keras 2 API: `Conv2D(64, (3, 3), input_shape=(28, 28, 1..., activation=\"relu\")`\n",
      "/Users/bharath/anaconda3/lib/python3.7/site-packages/ipykernel_launcher.py:35: UserWarning: Update your `Dense` call to the Keras 2 API: `Dense(activation=\"relu\", units=32)`\n"
     ]
    }
   ],
   "source": [
    "import plaidml.keras\n",
    "plaidml.keras.install_backend()\n",
    "\n",
    "\n",
    "# Importing the Keras libraries and packages\n",
    "from keras.models import Sequential\n",
    "from keras.layers import Convolution2D\n",
    "from keras.layers import MaxPooling2D\n",
    "from keras.layers import Flatten\n",
    "from keras.layers import Dense\n",
    "from keras.layers import Dropout\n",
    "from keras.optimizers import Adam\n",
    "\n",
    "\n",
    "\n",
    "# Initialising the CNN\n",
    "classifier = Sequential()\n",
    "\n",
    "#Step 1 - Convolution\n",
    "classifier.add(Convolution2D(64,3,3,input_shape = (28,28,1),activation='relu'))\n",
    "\n",
    "# Step 2 - Pooling & Dropout\n",
    "classifier.add(MaxPooling2D(pool_size=(2,2)))\n",
    "classifier.add(Dropout(0.25))\n",
    "\n",
    "# Step 2b - Adding a second convolutional layer\n",
    "#classifier.add(Convolution2D(32, 3, 3, activation = 'relu'))\n",
    "#classifier.add(MaxPooling2D(pool_size = (2, 2)))\n",
    "\n",
    "\n",
    "# Step 3 - Flattening\n",
    "classifier.add(Flatten())\n",
    "\n",
    "# Step 4 - Full connection\n",
    "classifier.add(Dense(output_dim = 32, activation='relu'))\n",
    "classifier.add(Dense(units = 10, activation = 'sigmoid'))\n",
    "\n",
    "\n",
    "# Compiling the CNN\n",
    "classifier.compile(optimizer=Adam(lr=0.001), loss = 'sparse_categorical_crossentropy', metrics = ['accuracy'])"
   ]
  },
  {
   "cell_type": "code",
   "execution_count": 32,
   "metadata": {},
   "outputs": [
    {
     "name": "stdout",
     "output_type": "stream",
     "text": [
      "Epoch 1/50\n",
      "100/100 [==============================] - 5s 46ms/step - loss: 0.3670 - acc: 0.8731 - val_loss: 0.3395 - val_acc: 0.8813\n",
      "Epoch 2/50\n",
      "100/100 [==============================] - 4s 43ms/step - loss: 0.3666 - acc: 0.8787 - val_loss: 0.3427 - val_acc: 0.8762\n",
      "Epoch 3/50\n",
      "100/100 [==============================] - 4s 38ms/step - loss: 0.3376 - acc: 0.8819 - val_loss: 0.3360 - val_acc: 0.8900\n",
      "Epoch 4/50\n",
      "100/100 [==============================] - 4s 40ms/step - loss: 0.3479 - acc: 0.8741 - val_loss: 0.3416 - val_acc: 0.8822\n",
      "Epoch 5/50\n",
      "100/100 [==============================] - 4s 41ms/step - loss: 0.3398 - acc: 0.8787 - val_loss: 0.3626 - val_acc: 0.8719\n",
      "Epoch 6/50\n",
      "100/100 [==============================] - 4s 38ms/step - loss: 0.3366 - acc: 0.8816 - val_loss: 0.3799 - val_acc: 0.8650\n",
      "Epoch 7/50\n",
      "100/100 [==============================] - 4s 39ms/step - loss: 0.3238 - acc: 0.8856 - val_loss: 0.3205 - val_acc: 0.8922\n",
      "Epoch 8/50\n",
      "100/100 [==============================] - 4s 39ms/step - loss: 0.3198 - acc: 0.8797 - val_loss: 0.3491 - val_acc: 0.8813\n",
      "Epoch 9/50\n",
      "100/100 [==============================] - 4s 39ms/step - loss: 0.3101 - acc: 0.8878 - val_loss: 0.3140 - val_acc: 0.8856\n",
      "Epoch 10/50\n",
      "100/100 [==============================] - 4s 41ms/step - loss: 0.3342 - acc: 0.8809 - val_loss: 0.3082 - val_acc: 0.8912\n",
      "Epoch 11/50\n",
      "100/100 [==============================] - 4s 41ms/step - loss: 0.3252 - acc: 0.8850 - val_loss: 0.3124 - val_acc: 0.8894\n",
      "Epoch 12/50\n",
      "100/100 [==============================] - 4s 40ms/step - loss: 0.3499 - acc: 0.8841 - val_loss: 0.3138 - val_acc: 0.8941\n",
      "Epoch 13/50\n",
      "100/100 [==============================] - 4s 41ms/step - loss: 0.3002 - acc: 0.8931 - val_loss: 0.3122 - val_acc: 0.8903\n",
      "Epoch 14/50\n",
      "100/100 [==============================] - 4s 40ms/step - loss: 0.3101 - acc: 0.8884 - val_loss: 0.2944 - val_acc: 0.9033\n",
      "Epoch 15/50\n",
      "100/100 [==============================] - 4s 40ms/step - loss: 0.3230 - acc: 0.8859 - val_loss: 0.3232 - val_acc: 0.8938\n",
      "Epoch 16/50\n",
      "100/100 [==============================] - 4s 42ms/step - loss: 0.3231 - acc: 0.8875 - val_loss: 0.2839 - val_acc: 0.8953\n",
      "Epoch 17/50\n",
      "100/100 [==============================] - 4s 40ms/step - loss: 0.3194 - acc: 0.8809 - val_loss: 0.3463 - val_acc: 0.8781\n",
      "Epoch 18/50\n",
      "100/100 [==============================] - 4s 40ms/step - loss: 0.3296 - acc: 0.8787 - val_loss: 0.3004 - val_acc: 0.8969\n",
      "Epoch 19/50\n",
      "100/100 [==============================] - 4s 40ms/step - loss: 0.3182 - acc: 0.8878 - val_loss: 0.2776 - val_acc: 0.9028\n",
      "Epoch 20/50\n",
      "100/100 [==============================] - 4s 40ms/step - loss: 0.3091 - acc: 0.8863 - val_loss: 0.3118 - val_acc: 0.8932\n",
      "Epoch 21/50\n",
      "100/100 [==============================] - 4s 40ms/step - loss: 0.2963 - acc: 0.8937 - val_loss: 0.2832 - val_acc: 0.8959\n",
      "Epoch 22/50\n",
      "100/100 [==============================] - 4s 39ms/step - loss: 0.3068 - acc: 0.8878 - val_loss: 0.2855 - val_acc: 0.9019\n",
      "Epoch 23/50\n",
      "100/100 [==============================] - 4s 43ms/step - loss: 0.3268 - acc: 0.8872 - val_loss: 0.2894 - val_acc: 0.9017\n",
      "Epoch 24/50\n",
      "100/100 [==============================] - 4s 42ms/step - loss: 0.2849 - acc: 0.8994 - val_loss: 0.2818 - val_acc: 0.8959\n",
      "Epoch 25/50\n",
      "100/100 [==============================] - 4s 41ms/step - loss: 0.3169 - acc: 0.8894 - val_loss: 0.2976 - val_acc: 0.8909\n",
      "Epoch 26/50\n",
      "100/100 [==============================] - 4s 42ms/step - loss: 0.3085 - acc: 0.8888 - val_loss: 0.3060 - val_acc: 0.8994\n",
      "Epoch 27/50\n",
      "100/100 [==============================] - 4s 42ms/step - loss: 0.2922 - acc: 0.9003 - val_loss: 0.2937 - val_acc: 0.8926\n",
      "Epoch 28/50\n",
      "100/100 [==============================] - 4s 40ms/step - loss: 0.3018 - acc: 0.8919 - val_loss: 0.2835 - val_acc: 0.9019\n",
      "Epoch 29/50\n",
      "100/100 [==============================] - 4s 40ms/step - loss: 0.2785 - acc: 0.8975 - val_loss: 0.2906 - val_acc: 0.8969\n",
      "Epoch 30/50\n",
      "100/100 [==============================] - 4s 39ms/step - loss: 0.2941 - acc: 0.8944 - val_loss: 0.2857 - val_acc: 0.8986\n",
      "Epoch 31/50\n",
      "100/100 [==============================] - 4s 40ms/step - loss: 0.2891 - acc: 0.8997 - val_loss: 0.2665 - val_acc: 0.9116\n",
      "Epoch 32/50\n",
      "100/100 [==============================] - 4s 40ms/step - loss: 0.2831 - acc: 0.8981 - val_loss: 0.2810 - val_acc: 0.9019\n",
      "Epoch 33/50\n",
      "100/100 [==============================] - 4s 39ms/step - loss: 0.2958 - acc: 0.8953 - val_loss: 0.3088 - val_acc: 0.8891\n",
      "Epoch 34/50\n",
      "100/100 [==============================] - 4s 40ms/step - loss: 0.2961 - acc: 0.8950 - val_loss: 0.2718 - val_acc: 0.8962\n",
      "Epoch 35/50\n",
      "100/100 [==============================] - 4s 40ms/step - loss: 0.2676 - acc: 0.9062 - val_loss: 0.2928 - val_acc: 0.8991\n",
      "Epoch 36/50\n",
      "100/100 [==============================] - 4s 40ms/step - loss: 0.2838 - acc: 0.8966 - val_loss: 0.2693 - val_acc: 0.9055\n",
      "Epoch 37/50\n",
      "100/100 [==============================] - 4s 39ms/step - loss: 0.2706 - acc: 0.9022 - val_loss: 0.2755 - val_acc: 0.9075\n",
      "Epoch 38/50\n",
      "100/100 [==============================] - 4s 40ms/step - loss: 0.2794 - acc: 0.9012 - val_loss: 0.2882 - val_acc: 0.8944\n",
      "Epoch 39/50\n",
      "100/100 [==============================] - 4s 41ms/step - loss: 0.3081 - acc: 0.8922 - val_loss: 0.2716 - val_acc: 0.9026\n",
      "Epoch 40/50\n",
      "100/100 [==============================] - 4s 42ms/step - loss: 0.2812 - acc: 0.9012 - val_loss: 0.2836 - val_acc: 0.8991\n",
      "Epoch 41/50\n",
      "100/100 [==============================] - 4s 40ms/step - loss: 0.2816 - acc: 0.8994 - val_loss: 0.2783 - val_acc: 0.9009\n",
      "Epoch 42/50\n",
      "100/100 [==============================] - 4s 42ms/step - loss: 0.2506 - acc: 0.9134 - val_loss: 0.3151 - val_acc: 0.8929\n",
      "Epoch 43/50\n",
      "100/100 [==============================] - 4s 40ms/step - loss: 0.2518 - acc: 0.9062 - val_loss: 0.2765 - val_acc: 0.9012\n",
      "Epoch 44/50\n",
      "100/100 [==============================] - 4s 40ms/step - loss: 0.2689 - acc: 0.9012 - val_loss: 0.2703 - val_acc: 0.9044\n",
      "Epoch 45/50\n",
      "100/100 [==============================] - 4s 40ms/step - loss: 0.2864 - acc: 0.9012 - val_loss: 0.2633 - val_acc: 0.9077\n",
      "Epoch 46/50\n",
      "100/100 [==============================] - 4s 41ms/step - loss: 0.2559 - acc: 0.9066 - val_loss: 0.2671 - val_acc: 0.9087\n",
      "Epoch 47/50\n",
      "100/100 [==============================] - 4s 39ms/step - loss: 0.2648 - acc: 0.9031 - val_loss: 0.2713 - val_acc: 0.9028\n",
      "Epoch 48/50\n",
      "100/100 [==============================] - 4s 40ms/step - loss: 0.2750 - acc: 0.8997 - val_loss: 0.2845 - val_acc: 0.8982\n",
      "Epoch 49/50\n",
      "100/100 [==============================] - 4s 40ms/step - loss: 0.2727 - acc: 0.9053 - val_loss: 0.2631 - val_acc: 0.9056\n",
      "Epoch 50/50\n",
      "100/100 [==============================] - 4s 40ms/step - loss: 0.2818 - acc: 0.9016 - val_loss: 0.2699 - val_acc: 0.9056\n"
     ]
    },
    {
     "data": {
      "text/plain": [
       "<keras.callbacks.History at 0x14d3021d0>"
      ]
     },
     "execution_count": 32,
     "metadata": {},
     "output_type": "execute_result"
    }
   ],
   "source": [
    "classifier.fit_generator(train_generator,\n",
    "                        steps_per_epoch=100,\n",
    "                        epochs=50,\n",
    "                        validation_data=test_generator,\n",
    "                        validation_steps=100)"
   ]
  },
  {
   "cell_type": "markdown",
   "metadata": {},
   "source": [
    "#### We see a 90% accuracy. Lets evaluate and plot the confusion matrix"
   ]
  },
  {
   "cell_type": "markdown",
   "metadata": {},
   "source": [
    "# Evaluate the model"
   ]
  },
  {
   "cell_type": "markdown",
   "metadata": {},
   "source": [
    "#### While using generator for evaluation/prediction its important to note the order in which they import the files and our y_test data should match this order. We create a new dataframe ordered_fashion_test_df for this."
   ]
  },
  {
   "cell_type": "markdown",
   "metadata": {},
   "source": [
    "#### Also importing the data should have shuffle = off"
   ]
  },
  {
   "cell_type": "code",
   "execution_count": 216,
   "metadata": {},
   "outputs": [],
   "source": [
    "test_datagen = ImageDataGenerator(rescale=1./255)"
   ]
  },
  {
   "cell_type": "code",
   "execution_count": 217,
   "metadata": {},
   "outputs": [
    {
     "name": "stdout",
     "output_type": "stream",
     "text": [
      "Found 10000 images.\n"
     ]
    }
   ],
   "source": [
    "test_generator=test_datagen.flow_from_dataframe(dataframe=fashion_test_df, directory='test/', x_col='filename', y_col=\"label\", color_mode = 'grayscale',class_mode=\"other\", target_size=(28,28), shuffle=False,batch_size=100)"
   ]
  },
  {
   "cell_type": "code",
   "execution_count": 218,
   "metadata": {},
   "outputs": [
    {
     "data": {
      "text/plain": [
       "['0.png',\n",
       " '1.png',\n",
       " '10.png',\n",
       " '100.png',\n",
       " '1000.png',\n",
       " '1001.png',\n",
       " '1002.png',\n",
       " '1003.png',\n",
       " '1004.png',\n",
       " '1005.png']"
      ]
     },
     "execution_count": 218,
     "metadata": {},
     "output_type": "execute_result"
    }
   ],
   "source": [
    "test_generator.filenames[0:10] # Note the order here is different compared to fashion_test_df"
   ]
  },
  {
   "cell_type": "code",
   "execution_count": 219,
   "metadata": {},
   "outputs": [
    {
     "data": {
      "text/html": [
       "<div>\n",
       "<style scoped>\n",
       "    .dataframe tbody tr th:only-of-type {\n",
       "        vertical-align: middle;\n",
       "    }\n",
       "\n",
       "    .dataframe tbody tr th {\n",
       "        vertical-align: top;\n",
       "    }\n",
       "\n",
       "    .dataframe thead th {\n",
       "        text-align: right;\n",
       "    }\n",
       "</style>\n",
       "<table border=\"1\" class=\"dataframe\">\n",
       "  <thead>\n",
       "    <tr style=\"text-align: right;\">\n",
       "      <th></th>\n",
       "      <th>label</th>\n",
       "      <th>filename</th>\n",
       "    </tr>\n",
       "  </thead>\n",
       "  <tbody>\n",
       "    <tr>\n",
       "      <th>0</th>\n",
       "      <td>0</td>\n",
       "      <td>0.png</td>\n",
       "    </tr>\n",
       "    <tr>\n",
       "      <th>1</th>\n",
       "      <td>1</td>\n",
       "      <td>1.png</td>\n",
       "    </tr>\n",
       "    <tr>\n",
       "      <th>2</th>\n",
       "      <td>2</td>\n",
       "      <td>2.png</td>\n",
       "    </tr>\n",
       "    <tr>\n",
       "      <th>3</th>\n",
       "      <td>2</td>\n",
       "      <td>3.png</td>\n",
       "    </tr>\n",
       "    <tr>\n",
       "      <th>4</th>\n",
       "      <td>3</td>\n",
       "      <td>4.png</td>\n",
       "    </tr>\n",
       "  </tbody>\n",
       "</table>\n",
       "</div>"
      ],
      "text/plain": [
       "   label filename\n",
       "0      0    0.png\n",
       "1      1    1.png\n",
       "2      2    2.png\n",
       "3      2    3.png\n",
       "4      3    4.png"
      ]
     },
     "execution_count": 219,
     "metadata": {},
     "output_type": "execute_result"
    }
   ],
   "source": [
    "fashion_test_df.head()"
   ]
  },
  {
   "cell_type": "code",
   "execution_count": 220,
   "metadata": {},
   "outputs": [],
   "source": [
    "ordered_fashion_test_df = pd.DataFrame()\n",
    "ordered_fashion_test_df['filename']=test_generator.filenames"
   ]
  },
  {
   "cell_type": "code",
   "execution_count": 221,
   "metadata": {},
   "outputs": [
    {
     "data": {
      "text/plain": [
       "filename    object\n",
       "dtype: object"
      ]
     },
     "execution_count": 221,
     "metadata": {},
     "output_type": "execute_result"
    }
   ],
   "source": [
    "ordered_fashion_test_df.dtypes"
   ]
  },
  {
   "cell_type": "code",
   "execution_count": 222,
   "metadata": {},
   "outputs": [],
   "source": [
    "ordered_fashion_test_df = ordered_fashion_test_df.merge(fashion_test_df,on='filename',how='left')"
   ]
  },
  {
   "cell_type": "code",
   "execution_count": 236,
   "metadata": {},
   "outputs": [
    {
     "data": {
      "text/html": [
       "<div>\n",
       "<style scoped>\n",
       "    .dataframe tbody tr th:only-of-type {\n",
       "        vertical-align: middle;\n",
       "    }\n",
       "\n",
       "    .dataframe tbody tr th {\n",
       "        vertical-align: top;\n",
       "    }\n",
       "\n",
       "    .dataframe thead th {\n",
       "        text-align: right;\n",
       "    }\n",
       "</style>\n",
       "<table border=\"1\" class=\"dataframe\">\n",
       "  <thead>\n",
       "    <tr style=\"text-align: right;\">\n",
       "      <th></th>\n",
       "      <th>filename</th>\n",
       "      <th>label</th>\n",
       "    </tr>\n",
       "  </thead>\n",
       "  <tbody>\n",
       "    <tr>\n",
       "      <th>0</th>\n",
       "      <td>0.png</td>\n",
       "      <td>0</td>\n",
       "    </tr>\n",
       "    <tr>\n",
       "      <th>1</th>\n",
       "      <td>1.png</td>\n",
       "      <td>1</td>\n",
       "    </tr>\n",
       "    <tr>\n",
       "      <th>2</th>\n",
       "      <td>10.png</td>\n",
       "      <td>3</td>\n",
       "    </tr>\n",
       "    <tr>\n",
       "      <th>3</th>\n",
       "      <td>100.png</td>\n",
       "      <td>9</td>\n",
       "    </tr>\n",
       "    <tr>\n",
       "      <th>4</th>\n",
       "      <td>1000.png</td>\n",
       "      <td>2</td>\n",
       "    </tr>\n",
       "  </tbody>\n",
       "</table>\n",
       "</div>"
      ],
      "text/plain": [
       "   filename  label\n",
       "0     0.png      0\n",
       "1     1.png      1\n",
       "2    10.png      3\n",
       "3   100.png      9\n",
       "4  1000.png      2"
      ]
     },
     "execution_count": 236,
     "metadata": {},
     "output_type": "execute_result"
    }
   ],
   "source": [
    "ordered_fashion_test_df.head() # Correct label order which can be used for confusion matrix"
   ]
  },
  {
   "cell_type": "code",
   "execution_count": 224,
   "metadata": {},
   "outputs": [],
   "source": [
    "# get the predictions for the test data\n",
    "predicted_classes = classifier.predict_generator(test_generator,steps=100,workers=1)"
   ]
  },
  {
   "cell_type": "code",
   "execution_count": 225,
   "metadata": {},
   "outputs": [
    {
     "data": {
      "text/plain": [
       "array([[2.9982531e-01, 0.0000000e+00, 2.1725893e-05, ..., 0.0000000e+00,\n",
       "        2.8640032e-05, 0.0000000e+00],\n",
       "       [4.7385693e-06, 4.0444899e-01, 3.8743019e-07, ..., 0.0000000e+00,\n",
       "        2.0861626e-07, 0.0000000e+00],\n",
       "       [1.4472008e-04, 1.7881393e-07, 2.0235777e-04, ..., 0.0000000e+00,\n",
       "        1.4603138e-06, 6.2584877e-07],\n",
       "       ...,\n",
       "       [1.1920929e-07, 0.0000000e+00, 1.7523766e-05, ..., 6.8545341e-06,\n",
       "        9.5925224e-01, 0.0000000e+00],\n",
       "       [2.6696920e-04, 2.9802322e-08, 2.3841858e-06, ..., 8.9406967e-08,\n",
       "        9.8979205e-01, 1.0728836e-06],\n",
       "       [8.0236793e-04, 9.9356949e-02, 2.7289987e-04, ..., 2.6822090e-07,\n",
       "        1.4248490e-03, 2.2649765e-06]], dtype=float32)"
      ]
     },
     "execution_count": 225,
     "metadata": {},
     "output_type": "execute_result"
    }
   ],
   "source": [
    "predicted_classes"
   ]
  },
  {
   "cell_type": "code",
   "execution_count": 226,
   "metadata": {},
   "outputs": [],
   "source": [
    "predicted_classes = predicted_classes.argmax(axis=1)"
   ]
  },
  {
   "cell_type": "code",
   "execution_count": 227,
   "metadata": {},
   "outputs": [
    {
     "data": {
      "text/plain": [
       "array([0, 1, 3, ..., 8, 8, 1])"
      ]
     },
     "execution_count": 227,
     "metadata": {},
     "output_type": "execute_result"
    }
   ],
   "source": [
    "(predicted_classes)"
   ]
  },
  {
   "cell_type": "code",
   "execution_count": 228,
   "metadata": {},
   "outputs": [
    {
     "data": {
      "text/plain": [
       "(10000, 2)"
      ]
     },
     "execution_count": 228,
     "metadata": {},
     "output_type": "execute_result"
    }
   ],
   "source": [
    "ordered_fashion_test_df.shape"
   ]
  },
  {
   "cell_type": "code",
   "execution_count": 229,
   "metadata": {},
   "outputs": [],
   "source": [
    "y_test = ordered_fashion_test_df.loc[:,'label'].values"
   ]
  },
  {
   "cell_type": "code",
   "execution_count": 230,
   "metadata": {},
   "outputs": [],
   "source": [
    "y_test = y_test.astype(int)"
   ]
  },
  {
   "cell_type": "code",
   "execution_count": 231,
   "metadata": {},
   "outputs": [
    {
     "data": {
      "text/plain": [
       "array([0, 1, 3, ..., 8, 8, 1])"
      ]
     },
     "execution_count": 231,
     "metadata": {},
     "output_type": "execute_result"
    }
   ],
   "source": [
    "y_test"
   ]
  },
  {
   "cell_type": "code",
   "execution_count": 232,
   "metadata": {},
   "outputs": [
    {
     "data": {
      "text/plain": [
       "<matplotlib.axes._subplots.AxesSubplot at 0x183e52128>"
      ]
     },
     "execution_count": 232,
     "metadata": {},
     "output_type": "execute_result"
    },
    {
     "data": {
      "image/png": "[encoded data removed]",
      "text/plain": [
       "<Figure size 1008x720 with 2 Axes>"
      ]
     },
     "metadata": {
      "needs_background": "light"
     },
     "output_type": "display_data"
    }
   ],
   "source": [
    "from sklearn.metrics import confusion_matrix\n",
    "cm = confusion_matrix(y_test, predicted_classes)\n",
    "plt.figure(figsize = (14,10))\n",
    "sns.heatmap(cm, annot=True)"
   ]
  },
  {
   "cell_type": "code",
   "execution_count": 233,
   "metadata": {},
   "outputs": [
    {
     "name": "stdout",
     "output_type": "stream",
     "text": [
      "Test Accuracy : 0.900\n"
     ]
    }
   ],
   "source": [
    "evaluation = classifier.evaluate_generator(test_generator,steps=100)\n",
    "print('Test Accuracy : {:.3f}'.format(evaluation[1]))"
   ]
  },
  {
   "cell_type": "markdown",
   "metadata": {},
   "source": [
    "# Summary"
   ]
  },
  {
   "cell_type": "markdown",
   "metadata": {},
   "source": [
    "#### 1. Accuracy is around 90%. Mainly the wrong predictions are with labels - {0 => T-shirt/top} ,  {4 => Coat} & {6 => Shirt}\n",
    "#### 2. We can increase accuracy by training the model on all 90,000 images , we did for only 100 (steps) *32 (batch size)  = 3,200 images and 50 epochs.\n",
    "#### 3. Accuracy can be improved by adding one more layer of convolution+maxpooling+dropout \n",
    "#### 4. Accuracy can be improved by performing shearing and zooming on the input images and increasing the number of input samples"
   ]
  },
  {
   "cell_type": "code",
   "execution_count": null,
   "metadata": {},
   "outputs": [],
   "source": []
  }
 ],
 "metadata": {
  "kernelspec": {
   "display_name": "Python 3",
   "language": "python",
   "name": "python3"
  },
  "language_info": {
   "codemirror_mode": {
    "name": "ipython",
    "version": 3
   },
   "file_extension": ".py",
   "mimetype": "text/x-python",
   "name": "python",
   "nbconvert_exporter": "python",
   "pygments_lexer": "ipython3",
   "version": "3.7.3"
  }
 },
 "nbformat": 4,
 "nbformat_minor": 2
}
