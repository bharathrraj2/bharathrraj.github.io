{
 "cells": [
  {
   "cell_type": "markdown",
   "metadata": {},
   "source": [
    "# CASE STUDY : BREAST CANCER CLASSIFICATION\n",
    "\n",
    "Predicting if the cancer diagnosis is benign or malignant based on several observations/features\n",
    "30 features are used, examples:\n",
    "\n",
    "  - radius (mean of distances from center to points on the perimeter)\n",
    "  - texture (standard deviation of gray-scale values)\n",
    "  - perimeter\n",
    "  - area\n",
    "  - smoothness (local variation in radius lengths)\n",
    "  - compactness (perimeter^2 / area - 1.0)\n",
    "  - concavity (severity of concave portions of the contour)\n",
    "  - concave points (number of concave portions of the contour)\n",
    "  - symmetry \n",
    "  - fractal dimension (\"coastline approximation\" - 1)\n",
    "Datasets are linearly separable using all 30 input features\n",
    "\n",
    "Number of Instances: 569\n",
    "Class Distribution: 212 Malignant, 357 Benign\n",
    "Target class:\n",
    "   - Malignant\n",
    "   - Benign\n",
    "   \n",
    "# Breast Cancer : Part 2 : Building Models"
   ]
  },
  {
   "cell_type": "code",
   "execution_count": 19,
   "metadata": {},
   "outputs": [],
   "source": [
    "import pandas as pd\n",
    "import numpy as np\n",
    "import matplotlib.pyplot as plt\n",
    "import seaborn as sns\n",
    "\n",
    "pd.pandas.set_option('display.max_columns', None)\n",
    "%config IPCompleter.greedy=True"
   ]
  },
  {
   "cell_type": "code",
   "execution_count": 20,
   "metadata": {},
   "outputs": [],
   "source": [
    "from sklearn.datasets import load_breast_cancer\n",
    "data_load = load_breast_cancer()\n",
    "data = pd.DataFrame(data_load['data'],columns=data_load['feature_names'])\n",
    "data['target'] = data_load['target']"
   ]
  },
  {
   "cell_type": "code",
   "execution_count": 21,
   "metadata": {},
   "outputs": [
    {
     "data": {
      "text/html": [
       "<div>\n",
       "<style scoped>\n",
       "    .dataframe tbody tr th:only-of-type {\n",
       "        vertical-align: middle;\n",
       "    }\n",
       "\n",
       "    .dataframe tbody tr th {\n",
       "        vertical-align: top;\n",
       "    }\n",
       "\n",
       "    .dataframe thead th {\n",
       "        text-align: right;\n",
       "    }\n",
       "</style>\n",
       "<table border=\"1\" class=\"dataframe\">\n",
       "  <thead>\n",
       "    <tr style=\"text-align: right;\">\n",
       "      <th></th>\n",
       "      <th>mean radius</th>\n",
       "      <th>mean texture</th>\n",
       "      <th>mean perimeter</th>\n",
       "      <th>mean area</th>\n",
       "      <th>mean smoothness</th>\n",
       "      <th>mean compactness</th>\n",
       "      <th>mean concavity</th>\n",
       "      <th>mean concave points</th>\n",
       "      <th>mean symmetry</th>\n",
       "      <th>mean fractal dimension</th>\n",
       "      <th>radius error</th>\n",
       "      <th>texture error</th>\n",
       "      <th>perimeter error</th>\n",
       "      <th>area error</th>\n",
       "      <th>smoothness error</th>\n",
       "      <th>compactness error</th>\n",
       "      <th>concavity error</th>\n",
       "      <th>concave points error</th>\n",
       "      <th>symmetry error</th>\n",
       "      <th>fractal dimension error</th>\n",
       "      <th>worst radius</th>\n",
       "      <th>worst texture</th>\n",
       "      <th>worst perimeter</th>\n",
       "      <th>worst area</th>\n",
       "      <th>worst smoothness</th>\n",
       "      <th>worst compactness</th>\n",
       "      <th>worst concavity</th>\n",
       "      <th>worst concave points</th>\n",
       "      <th>worst symmetry</th>\n",
       "      <th>worst fractal dimension</th>\n",
       "      <th>target</th>\n",
       "    </tr>\n",
       "  </thead>\n",
       "  <tbody>\n",
       "    <tr>\n",
       "      <th>0</th>\n",
       "      <td>17.99</td>\n",
       "      <td>10.38</td>\n",
       "      <td>122.80</td>\n",
       "      <td>1001.0</td>\n",
       "      <td>0.11840</td>\n",
       "      <td>0.27760</td>\n",
       "      <td>0.3001</td>\n",
       "      <td>0.14710</td>\n",
       "      <td>0.2419</td>\n",
       "      <td>0.07871</td>\n",
       "      <td>1.0950</td>\n",
       "      <td>0.9053</td>\n",
       "      <td>8.589</td>\n",
       "      <td>153.40</td>\n",
       "      <td>0.006399</td>\n",
       "      <td>0.04904</td>\n",
       "      <td>0.05373</td>\n",
       "      <td>0.01587</td>\n",
       "      <td>0.03003</td>\n",
       "      <td>0.006193</td>\n",
       "      <td>25.38</td>\n",
       "      <td>17.33</td>\n",
       "      <td>184.60</td>\n",
       "      <td>2019.0</td>\n",
       "      <td>0.1622</td>\n",
       "      <td>0.6656</td>\n",
       "      <td>0.7119</td>\n",
       "      <td>0.2654</td>\n",
       "      <td>0.4601</td>\n",
       "      <td>0.11890</td>\n",
       "      <td>0</td>\n",
       "    </tr>\n",
       "    <tr>\n",
       "      <th>1</th>\n",
       "      <td>20.57</td>\n",
       "      <td>17.77</td>\n",
       "      <td>132.90</td>\n",
       "      <td>1326.0</td>\n",
       "      <td>0.08474</td>\n",
       "      <td>0.07864</td>\n",
       "      <td>0.0869</td>\n",
       "      <td>0.07017</td>\n",
       "      <td>0.1812</td>\n",
       "      <td>0.05667</td>\n",
       "      <td>0.5435</td>\n",
       "      <td>0.7339</td>\n",
       "      <td>3.398</td>\n",
       "      <td>74.08</td>\n",
       "      <td>0.005225</td>\n",
       "      <td>0.01308</td>\n",
       "      <td>0.01860</td>\n",
       "      <td>0.01340</td>\n",
       "      <td>0.01389</td>\n",
       "      <td>0.003532</td>\n",
       "      <td>24.99</td>\n",
       "      <td>23.41</td>\n",
       "      <td>158.80</td>\n",
       "      <td>1956.0</td>\n",
       "      <td>0.1238</td>\n",
       "      <td>0.1866</td>\n",
       "      <td>0.2416</td>\n",
       "      <td>0.1860</td>\n",
       "      <td>0.2750</td>\n",
       "      <td>0.08902</td>\n",
       "      <td>0</td>\n",
       "    </tr>\n",
       "    <tr>\n",
       "      <th>2</th>\n",
       "      <td>19.69</td>\n",
       "      <td>21.25</td>\n",
       "      <td>130.00</td>\n",
       "      <td>1203.0</td>\n",
       "      <td>0.10960</td>\n",
       "      <td>0.15990</td>\n",
       "      <td>0.1974</td>\n",
       "      <td>0.12790</td>\n",
       "      <td>0.2069</td>\n",
       "      <td>0.05999</td>\n",
       "      <td>0.7456</td>\n",
       "      <td>0.7869</td>\n",
       "      <td>4.585</td>\n",
       "      <td>94.03</td>\n",
       "      <td>0.006150</td>\n",
       "      <td>0.04006</td>\n",
       "      <td>0.03832</td>\n",
       "      <td>0.02058</td>\n",
       "      <td>0.02250</td>\n",
       "      <td>0.004571</td>\n",
       "      <td>23.57</td>\n",
       "      <td>25.53</td>\n",
       "      <td>152.50</td>\n",
       "      <td>1709.0</td>\n",
       "      <td>0.1444</td>\n",
       "      <td>0.4245</td>\n",
       "      <td>0.4504</td>\n",
       "      <td>0.2430</td>\n",
       "      <td>0.3613</td>\n",
       "      <td>0.08758</td>\n",
       "      <td>0</td>\n",
       "    </tr>\n",
       "    <tr>\n",
       "      <th>3</th>\n",
       "      <td>11.42</td>\n",
       "      <td>20.38</td>\n",
       "      <td>77.58</td>\n",
       "      <td>386.1</td>\n",
       "      <td>0.14250</td>\n",
       "      <td>0.28390</td>\n",
       "      <td>0.2414</td>\n",
       "      <td>0.10520</td>\n",
       "      <td>0.2597</td>\n",
       "      <td>0.09744</td>\n",
       "      <td>0.4956</td>\n",
       "      <td>1.1560</td>\n",
       "      <td>3.445</td>\n",
       "      <td>27.23</td>\n",
       "      <td>0.009110</td>\n",
       "      <td>0.07458</td>\n",
       "      <td>0.05661</td>\n",
       "      <td>0.01867</td>\n",
       "      <td>0.05963</td>\n",
       "      <td>0.009208</td>\n",
       "      <td>14.91</td>\n",
       "      <td>26.50</td>\n",
       "      <td>98.87</td>\n",
       "      <td>567.7</td>\n",
       "      <td>0.2098</td>\n",
       "      <td>0.8663</td>\n",
       "      <td>0.6869</td>\n",
       "      <td>0.2575</td>\n",
       "      <td>0.6638</td>\n",
       "      <td>0.17300</td>\n",
       "      <td>0</td>\n",
       "    </tr>\n",
       "    <tr>\n",
       "      <th>4</th>\n",
       "      <td>20.29</td>\n",
       "      <td>14.34</td>\n",
       "      <td>135.10</td>\n",
       "      <td>1297.0</td>\n",
       "      <td>0.10030</td>\n",
       "      <td>0.13280</td>\n",
       "      <td>0.1980</td>\n",
       "      <td>0.10430</td>\n",
       "      <td>0.1809</td>\n",
       "      <td>0.05883</td>\n",
       "      <td>0.7572</td>\n",
       "      <td>0.7813</td>\n",
       "      <td>5.438</td>\n",
       "      <td>94.44</td>\n",
       "      <td>0.011490</td>\n",
       "      <td>0.02461</td>\n",
       "      <td>0.05688</td>\n",
       "      <td>0.01885</td>\n",
       "      <td>0.01756</td>\n",
       "      <td>0.005115</td>\n",
       "      <td>22.54</td>\n",
       "      <td>16.67</td>\n",
       "      <td>152.20</td>\n",
       "      <td>1575.0</td>\n",
       "      <td>0.1374</td>\n",
       "      <td>0.2050</td>\n",
       "      <td>0.4000</td>\n",
       "      <td>0.1625</td>\n",
       "      <td>0.2364</td>\n",
       "      <td>0.07678</td>\n",
       "      <td>0</td>\n",
       "    </tr>\n",
       "  </tbody>\n",
       "</table>\n",
       "</div>"
      ],
      "text/plain": [
       "   mean radius  mean texture  mean perimeter  mean area  mean smoothness  \\\n",
       "0        17.99         10.38          122.80     1001.0          0.11840   \n",
       "1        20.57         17.77          132.90     1326.0          0.08474   \n",
       "2        19.69         21.25          130.00     1203.0          0.10960   \n",
       "3        11.42         20.38           77.58      386.1          0.14250   \n",
       "4        20.29         14.34          135.10     1297.0          0.10030   \n",
       "\n",
       "   mean compactness  mean concavity  mean concave points  mean symmetry  \\\n",
       "0           0.27760          0.3001              0.14710         0.2419   \n",
       "1           0.07864          0.0869              0.07017         0.1812   \n",
       "2           0.15990          0.1974              0.12790         0.2069   \n",
       "3           0.28390          0.2414              0.10520         0.2597   \n",
       "4           0.13280          0.1980              0.10430         0.1809   \n",
       "\n",
       "   mean fractal dimension  radius error  texture error  perimeter error  \\\n",
       "0                 0.07871        1.0950         0.9053            8.589   \n",
       "1                 0.05667        0.5435         0.7339            3.398   \n",
       "2                 0.05999        0.7456         0.7869            4.585   \n",
       "3                 0.09744        0.4956         1.1560            3.445   \n",
       "4                 0.05883        0.7572         0.7813            5.438   \n",
       "\n",
       "   area error  smoothness error  compactness error  concavity error  \\\n",
       "0      153.40          0.006399            0.04904          0.05373   \n",
       "1       74.08          0.005225            0.01308          0.01860   \n",
       "2       94.03          0.006150            0.04006          0.03832   \n",
       "3       27.23          0.009110            0.07458          0.05661   \n",
       "4       94.44          0.011490            0.02461          0.05688   \n",
       "\n",
       "   concave points error  symmetry error  fractal dimension error  \\\n",
       "0               0.01587         0.03003                 0.006193   \n",
       "1               0.01340         0.01389                 0.003532   \n",
       "2               0.02058         0.02250                 0.004571   \n",
       "3               0.01867         0.05963                 0.009208   \n",
       "4               0.01885         0.01756                 0.005115   \n",
       "\n",
       "   worst radius  worst texture  worst perimeter  worst area  worst smoothness  \\\n",
       "0         25.38          17.33           184.60      2019.0            0.1622   \n",
       "1         24.99          23.41           158.80      1956.0            0.1238   \n",
       "2         23.57          25.53           152.50      1709.0            0.1444   \n",
       "3         14.91          26.50            98.87       567.7            0.2098   \n",
       "4         22.54          16.67           152.20      1575.0            0.1374   \n",
       "\n",
       "   worst compactness  worst concavity  worst concave points  worst symmetry  \\\n",
       "0             0.6656           0.7119                0.2654          0.4601   \n",
       "1             0.1866           0.2416                0.1860          0.2750   \n",
       "2             0.4245           0.4504                0.2430          0.3613   \n",
       "3             0.8663           0.6869                0.2575          0.6638   \n",
       "4             0.2050           0.4000                0.1625          0.2364   \n",
       "\n",
       "   worst fractal dimension  target  \n",
       "0                  0.11890       0  \n",
       "1                  0.08902       0  \n",
       "2                  0.08758       0  \n",
       "3                  0.17300       0  \n",
       "4                  0.07678       0  "
      ]
     },
     "execution_count": 21,
     "metadata": {},
     "output_type": "execute_result"
    }
   ],
   "source": [
    "data.head()"
   ]
  },
  {
   "cell_type": "code",
   "execution_count": null,
   "metadata": {},
   "outputs": [],
   "source": []
  },
  {
   "cell_type": "markdown",
   "metadata": {},
   "source": [
    "# Train Test Split"
   ]
  },
  {
   "cell_type": "code",
   "execution_count": 22,
   "metadata": {},
   "outputs": [],
   "source": [
    "# for the model\n",
    "from sklearn.model_selection import train_test_split\n",
    "from sklearn.pipeline import Pipeline\n",
    "from sklearn.metrics import mean_squared_error, r2_score\n",
    "\n",
    "# for feature engineering\n",
    "from sklearn.preprocessing import StandardScaler\n",
    "from feature_engine import discretisers as dsc\n",
    "from feature_engine import categorical_encoders as ce"
   ]
  },
  {
   "cell_type": "code",
   "execution_count": 23,
   "metadata": {},
   "outputs": [],
   "source": [
    "cont_vars = ['mean radius', 'mean texture', 'mean perimeter', 'mean area',\n",
    "       'mean smoothness', 'mean compactness', 'mean concavity',\n",
    "       'mean concave points', 'mean symmetry', 'mean fractal dimension',\n",
    "       'radius error', 'texture error', 'perimeter error', 'area error',\n",
    "       'smoothness error', 'compactness error', 'concavity error',\n",
    "       'concave points error', 'symmetry error', 'fractal dimension error',\n",
    "       'worst radius', 'worst texture', 'worst perimeter', 'worst area',\n",
    "       'worst smoothness', 'worst compactness', 'worst concavity',\n",
    "       'worst concave points', 'worst symmetry', 'worst fractal dimension']"
   ]
  },
  {
   "cell_type": "code",
   "execution_count": 24,
   "metadata": {},
   "outputs": [],
   "source": [
    "X_train,X_test,y_train,y_test = train_test_split(data[cont_vars],data['target'],test_size=0.2, random_state=0)"
   ]
  },
  {
   "cell_type": "code",
   "execution_count": null,
   "metadata": {},
   "outputs": [],
   "source": []
  },
  {
   "cell_type": "markdown",
   "metadata": {},
   "source": [
    "# Basic Model Building"
   ]
  },
  {
   "cell_type": "code",
   "execution_count": 25,
   "metadata": {},
   "outputs": [],
   "source": [
    "from sklearn.preprocessing import StandardScaler\n",
    "from xgboost import XGBClassifier\n",
    "from sklearn.svm import SVC\n",
    "from sklearn.grid_search import GridSearchCV\n",
    "from sklearn.metrics import classification_report, accuracy_score, confusion_matrix"
   ]
  },
  {
   "cell_type": "code",
   "execution_count": 26,
   "metadata": {},
   "outputs": [],
   "source": [
    "pipeline = Pipeline([\n",
    "     ('standard_scale',StandardScaler())\n",
    "])"
   ]
  },
  {
   "cell_type": "code",
   "execution_count": 27,
   "metadata": {},
   "outputs": [],
   "source": [
    "X_train = pipeline.fit_transform(X_train,y_train)\n",
    "X_test = pipeline.transform(X_test)"
   ]
  },
  {
   "cell_type": "code",
   "execution_count": 28,
   "metadata": {},
   "outputs": [],
   "source": [
    "model = SVC()"
   ]
  },
  {
   "cell_type": "code",
   "execution_count": 29,
   "metadata": {},
   "outputs": [
    {
     "data": {
      "text/plain": [
       "SVC(C=1.0, cache_size=200, class_weight=None, coef0=0.0,\n",
       "  decision_function_shape='ovr', degree=3, gamma='auto', kernel='rbf',\n",
       "  max_iter=-1, probability=False, random_state=None, shrinking=True,\n",
       "  tol=0.001, verbose=False)"
      ]
     },
     "execution_count": 29,
     "metadata": {},
     "output_type": "execute_result"
    }
   ],
   "source": [
    "model.fit(X_train,y_train)"
   ]
  },
  {
   "cell_type": "code",
   "execution_count": 30,
   "metadata": {},
   "outputs": [],
   "source": [
    "y_pred = model.predict(X_test)"
   ]
  },
  {
   "cell_type": "code",
   "execution_count": 31,
   "metadata": {},
   "outputs": [
    {
     "data": {
      "text/plain": [
       "0.9824561403508771"
      ]
     },
     "execution_count": 31,
     "metadata": {},
     "output_type": "execute_result"
    }
   ],
   "source": [
    "accuracy_score(y_pred,y_test)"
   ]
  },
  {
   "cell_type": "code",
   "execution_count": 32,
   "metadata": {},
   "outputs": [
    {
     "name": "stdout",
     "output_type": "stream",
     "text": [
      "             precision    recall  f1-score   support\n",
      "\n",
      "          0       1.00      0.96      0.98        47\n",
      "          1       0.97      1.00      0.99        67\n",
      "\n",
      "avg / total       0.98      0.98      0.98       114\n",
      "\n"
     ]
    }
   ],
   "source": [
    "print(classification_report(y_test, y_pred))"
   ]
  },
  {
   "cell_type": "code",
   "execution_count": 33,
   "metadata": {},
   "outputs": [
    {
     "data": {
      "text/plain": [
       "array([[45,  2],\n",
       "       [ 0, 67]])"
      ]
     },
     "execution_count": 33,
     "metadata": {},
     "output_type": "execute_result"
    }
   ],
   "source": [
    "confusion_matrix(y_test,y_pred)"
   ]
  },
  {
   "cell_type": "markdown",
   "metadata": {},
   "source": [
    "#### We got a very good accuracy with a basic model itself. Next we can try to see if it can be improved further."
   ]
  },
  {
   "cell_type": "markdown",
   "metadata": {},
   "source": [
    "# Remove correlated features"
   ]
  },
  {
   "cell_type": "code",
   "execution_count": 56,
   "metadata": {},
   "outputs": [
    {
     "name": "stdout",
     "output_type": "stream",
     "text": [
      "correlated features:  10\n"
     ]
    },
    {
     "data": {
      "text/plain": [
       "0.9824561403508771"
      ]
     },
     "execution_count": 56,
     "metadata": {},
     "output_type": "execute_result"
    }
   ],
   "source": [
    "def correlation(dataset, threshold):\n",
    "    col_corr = set()  # Set of all the names of correlated columns\n",
    "    corr_matrix = dataset.corr()\n",
    "    for i in range(len(corr_matrix.columns)):\n",
    "        for j in range(i):\n",
    "            if abs(corr_matrix.iloc[i, j]) > threshold: # we are interested in absolute coeff value\n",
    "                colname = corr_matrix.columns[i]  # getting the name of column\n",
    "                col_corr.add(colname)\n",
    "    return col_corr\n",
    "\n",
    "X_train,X_test,y_train,y_test = train_test_split(data[cont_vars],data['target'],test_size=0.2, random_state=0)\n",
    "\n",
    "corr_features = correlation(X_train, 0.9)\n",
    "print('correlated features: ', len(set(corr_features)) )\n",
    "\n",
    "corr_features\n",
    "\n",
    "X_train.drop(labels=corr_features, axis=1, inplace=True)\n",
    "X_test.drop(labels=corr_features, axis=1, inplace=True)\n",
    "\n",
    "sel_columns = X_train.columns\n",
    "\n",
    "pipeline = Pipeline([\n",
    "    ('standard_scale',StandardScaler())\n",
    "])\n",
    "\n",
    "X_train = pipeline.fit_transform(X_train,y_train)\n",
    "X_test = pipeline.transform(X_test)\n",
    "\n",
    "model = SVC(C=10,gamma=0.01)\n",
    "model.fit(X_train,y_train)\n",
    "y_pred = model.predict(X_test)\n",
    "accuracy_score(y_pred,y_test)"
   ]
  },
  {
   "cell_type": "code",
   "execution_count": 57,
   "metadata": {},
   "outputs": [
    {
     "data": {
      "text/plain": [
       "array([[45,  2],\n",
       "       [ 0, 67]])"
      ]
     },
     "execution_count": 57,
     "metadata": {},
     "output_type": "execute_result"
    }
   ],
   "source": [
    "confusion_matrix(y_test,y_pred)"
   ]
  },
  {
   "cell_type": "markdown",
   "metadata": {},
   "source": [
    "#### No change in performance after removing 10 highly correlated features. We will continue to remove them in future models"
   ]
  },
  {
   "cell_type": "markdown",
   "metadata": {},
   "source": [
    "# SVC Model Tuning"
   ]
  },
  {
   "cell_type": "code",
   "execution_count": 36,
   "metadata": {},
   "outputs": [
    {
     "name": "stdout",
     "output_type": "stream",
     "text": [
      "Fitting 4 folds for each of 3 candidates, totalling 12 fits\n",
      "[CV] C=0.1 ...........................................................\n",
      "[CV] C=0.1 ...........................................................\n",
      "[CV] C=0.1 ...........................................................\n",
      "[CV] C=0.1 ...........................................................\n",
      "[CV] .................................. C=0.1, score=0.895652 -   0.0s\n",
      "[CV] C=1 .............................................................\n",
      "[CV] .................................. C=0.1, score=0.929825 -   0.0s\n",
      "[CV] C=1 .............................................................\n",
      "[CV] .................................. C=0.1, score=0.920354 -   0.0s\n",
      "[CV] .................................... C=1, score=0.947826 -   0.0s\n",
      "[CV] C=1 .............................................................\n",
      "[CV] .................................. C=0.1, score=0.946903 -   0.0s\n",
      "[CV] C=1 .............................................................\n",
      "[CV] .................................... C=1, score=0.947368 -   0.0s\n",
      "[CV] C=10 ............................................................\n",
      "[CV] .................................... C=1, score=0.973451 -   0.0s\n",
      "[CV] .................................... C=1, score=0.982301 -   0.0s\n",
      "[CV] ................................... C=10, score=0.982609 -   0.0s\n",
      "[CV] C=10 ............................................................\n",
      "[CV] ................................... C=10, score=0.947368 -   0.0s\n",
      "[CV] C=10 ............................................................\n",
      "[CV] ................................... C=10, score=0.946903 -   0.0s\n",
      "[CV] C=10 ............................................................\n",
      "[CV] ................................... C=10, score=0.973451 -   0.0s\n"
     ]
    },
    {
     "name": "stderr",
     "output_type": "stream",
     "text": [
      "[Parallel(n_jobs=4)]: Batch computation too fast (0.0386s.) Setting batch_size=10.\n",
      "[Parallel(n_jobs=4)]: Done   3 out of  12 | elapsed:    0.1s remaining:    0.2s\n",
      "[Parallel(n_jobs=4)]: Done   5 out of  12 | elapsed:    0.1s remaining:    0.1s\n",
      "[Parallel(n_jobs=4)]: Done   7 out of  12 | elapsed:    0.1s remaining:    0.1s\n",
      "[Parallel(n_jobs=4)]: Done  12 out of  12 | elapsed:    0.1s finished\n"
     ]
    },
    {
     "data": {
      "text/plain": [
       "([mean: 0.92318, std: 0.01852, params: {'C': 0.1},\n",
       "  mean: 0.96274, std: 0.01546, params: {'C': 1},\n",
       "  mean: 0.96258, std: 0.01578, params: {'C': 10}],\n",
       " {'C': 1},\n",
       " 0.9627366800996334)"
      ]
     },
     "execution_count": 36,
     "metadata": {},
     "output_type": "execute_result"
    }
   ],
   "source": [
    "param_test1 = {\n",
    " 'C':[0.1,1,10]\n",
    "}\n",
    "\n",
    "gsearch1 = GridSearchCV(estimator =  SVC(), \n",
    "param_grid = param_test1, scoring='accuracy',n_jobs=4,iid=False, cv=4, verbose=10)\n",
    "\n",
    "\n",
    "gsearch1.fit(X_train,y_train)\n",
    "gsearch1.grid_scores_, gsearch1.best_params_, gsearch1.best_score_"
   ]
  },
  {
   "cell_type": "code",
   "execution_count": 37,
   "metadata": {},
   "outputs": [
    {
     "name": "stdout",
     "output_type": "stream",
     "text": [
      "Fitting 4 folds for each of 9 candidates, totalling 36 fits\n",
      "[CV] C=0.1, gamma=0.01 ...............................................\n",
      "[CV] C=0.1, gamma=0.01 ...............................................\n",
      "[CV] C=0.1, gamma=0.01 ...............................................\n",
      "[CV] C=0.1, gamma=0.01 ...............................................\n",
      "[CV] ...................... C=0.1, gamma=0.01, score=0.886957 -   0.0s\n",
      "[CV] ...................... C=0.1, gamma=0.01, score=0.894737 -   0.0s\n",
      "[CV] C=0.1, gamma=0.1 ................................................\n",
      "[CV] ...................... C=0.1, gamma=0.01, score=0.920354 -   0.0s\n",
      "[CV] ...................... C=0.1, gamma=0.01, score=0.920354 -   0.0s\n",
      "[CV] C=0.1, gamma=0.1 ................................................\n",
      "[CV] ....................... C=0.1, gamma=0.1, score=0.904348 -   0.0s\n",
      "[CV] C=0.1, gamma=0.1 ................................................\n",
      "[CV] ....................... C=0.1, gamma=0.1, score=0.894737 -   0.0s\n",
      "[CV] C=0.1, gamma=0.1 ................................................\n",
      "[CV] C=0.1, gamma=1 ..................................................\n",
      "[CV] ....................... C=0.1, gamma=0.1, score=0.893805 -   0.0s\n",
      "[CV] C=1, gamma=0.1 ..................................................\n",
      "[CV] C=10, gamma=0.1 .................................................\n",
      "[CV] ....................... C=0.1, gamma=0.1, score=0.902655 -   0.0s\n",
      "[CV] ......................... C=1, gamma=0.1, score=0.955752 -   0.0s\n",
      "[CV] ........................ C=10, gamma=0.1, score=0.982609 -   0.0s\n",
      "[CV] ......................... C=0.1, gamma=1, score=0.634783 -   0.0s\n",
      "[CV] C=1, gamma=0.1 ..................................................\n",
      "[CV] C=10, gamma=0.1 .................................................\n",
      "[CV] C=0.1, gamma=1 ..................................................\n",
      "[CV] ......................... C=1, gamma=0.1, score=0.982301 -   0.0s\n",
      "[CV] ........................ C=10, gamma=0.1, score=0.938596 -   0.0s\n",
      "[CV] C=1, gamma=1 ....................................................\n",
      "[CV] C=10, gamma=0.1 .................................................\n",
      "[CV] ......................... C=0.1, gamma=1, score=0.640351 -   0.0s\n",
      "[CV] C=0.1, gamma=1 ..................................................\n",
      "[CV] ........................ C=10, gamma=0.1, score=0.938053 -   0.0s\n",
      "[CV] C=10, gamma=0.1 .................................................\n",
      "[CV] ........................... C=1, gamma=1, score=0.643478 -   0.0s\n",
      "[CV] C=1, gamma=1 ....................................................\n",
      "[CV] ........................ C=10, gamma=0.1, score=0.955752 -   0.0s\n",
      "[CV] ......................... C=0.1, gamma=1, score=0.637168 -   0.0s\n",
      "[CV] C=10, gamma=1 ...................................................\n",
      "[CV] C=0.1, gamma=1 ..................................................\n",
      "[CV] ........................... C=1, gamma=1, score=0.657895 -   0.0s\n",
      "[CV] C=1, gamma=1 ....................................................\n",
      "[CV] ......................... C=0.1, gamma=1, score=0.637168 -   0.0s\n",
      "[CV] .......................... C=10, gamma=1, score=0.660870 -   0.0s\n",
      "[CV] C=1, gamma=0.01 .................................................\n",
      "[CV] C=10, gamma=1 ...................................................\n",
      "[CV] ........................... C=1, gamma=1, score=0.663717 -   0.0s\n",
      "[CV] ........................ C=1, gamma=0.01, score=0.939130 -   0.0s\n",
      "[CV] C=1, gamma=1 ....................................................\n",
      "[CV] C=1, gamma=0.01 .................................................\n",
      "[CV] .......................... C=10, gamma=1, score=0.666667 -   0.0s\n",
      "[CV] ........................ C=1, gamma=0.01, score=0.964912 -   0.0s\n",
      "[CV] C=1, gamma=0.01 .................................................\n",
      "[CV] C=10, gamma=1 ...................................................\n",
      "[CV] ........................... C=1, gamma=1, score=0.637168 -   0.0s\n",
      "[CV] ........................ C=1, gamma=0.01, score=0.964602 -   0.0s\n",
      "[CV] C=1, gamma=0.01 .................................................\n",
      "[CV] C=10, gamma=0.01 ................................................\n",
      "[CV] ....................... C=10, gamma=0.01, score=0.982609 -   0.0s\n",
      "[CV] .......................... C=10, gamma=1, score=0.690265 -   0.0s\n",
      "[CV] ........................ C=1, gamma=0.01, score=0.964602 -   0.0s\n",
      "[CV] C=10, gamma=1 ...................................................\n",
      "[CV] C=1, gamma=0.1 ..................................................\n",
      "[CV] C=10, gamma=0.01 ................................................\n",
      "[CV] ....................... C=10, gamma=0.01, score=0.964912 -   0.0s\n",
      "[CV] ......................... C=1, gamma=0.1, score=0.947826 -   0.0s\n",
      "[CV] C=10, gamma=0.01 ................................................\n",
      "[CV] C=1, gamma=0.1 ..................................................\n",
      "[CV] .......................... C=10, gamma=1, score=0.654867 -   0.0s\n",
      "[CV] ....................... C=10, gamma=0.01, score=0.973451 -   0.0s\n",
      "[CV] C=10, gamma=0.01 ................................................\n",
      "[CV] ......................... C=1, gamma=0.1, score=0.956140 -   0.0s\n",
      "[CV] ....................... C=10, gamma=0.01, score=0.982301 -   0.0s\n"
     ]
    },
    {
     "name": "stderr",
     "output_type": "stream",
     "text": [
      "[Parallel(n_jobs=4)]: Batch computation too fast (0.0356s.) Setting batch_size=10.\n",
      "[Parallel(n_jobs=4)]: Done   5 out of  36 | elapsed:    0.1s remaining:    0.4s\n",
      "[Parallel(n_jobs=4)]: Done  36 out of  36 | elapsed:    0.2s finished\n"
     ]
    },
    {
     "data": {
      "text/plain": [
       "([mean: 0.90560, std: 0.01501, params: {'C': 0.1, 'gamma': 0.01},\n",
       "  mean: 0.89889, std: 0.00467, params: {'C': 0.1, 'gamma': 0.1},\n",
       "  mean: 0.63737, std: 0.00198, params: {'C': 0.1, 'gamma': 1},\n",
       "  mean: 0.95831, std: 0.01107, params: {'C': 1, 'gamma': 0.01},\n",
       "  mean: 0.96050, std: 0.01301, params: {'C': 1, 'gamma': 0.1},\n",
       "  mean: 0.65056, std: 0.01068, params: {'C': 1, 'gamma': 1},\n",
       "  mean: 0.97582, std: 0.00729, params: {'C': 10, 'gamma': 0.01},\n",
       "  mean: 0.95375, std: 0.01812, params: {'C': 10, 'gamma': 0.1},\n",
       "  mean: 0.66817, std: 0.01342, params: {'C': 10, 'gamma': 1}],\n",
       " {'C': 10, 'gamma': 0.01},\n",
       " 0.9758182971858272)"
      ]
     },
     "execution_count": 37,
     "metadata": {},
     "output_type": "execute_result"
    }
   ],
   "source": [
    "param_test1 = {\n",
    " 'C':[0.1,1,10],\n",
    "  'gamma': [0.01, 0.1, 1]\n",
    "}\n",
    "\n",
    "gsearch1 = GridSearchCV(estimator =  SVC(), \n",
    "param_grid = param_test1, scoring='accuracy',n_jobs=4,iid=False, cv=4, verbose=10)\n",
    "\n",
    "\n",
    "gsearch1.fit(X_train,y_train)\n",
    "gsearch1.grid_scores_, gsearch1.best_params_, gsearch1.best_score_"
   ]
  },
  {
   "cell_type": "code",
   "execution_count": 38,
   "metadata": {},
   "outputs": [
    {
     "data": {
      "text/plain": [
       "0.9824561403508771"
      ]
     },
     "execution_count": 38,
     "metadata": {},
     "output_type": "execute_result"
    }
   ],
   "source": [
    "model = SVC(C=10,gamma=0.01)\n",
    "model.fit(X_train,y_train)\n",
    "y_pred = model.predict(X_test)\n",
    "accuracy_score(y_pred,y_test)\n"
   ]
  },
  {
   "cell_type": "code",
   "execution_count": 39,
   "metadata": {},
   "outputs": [
    {
     "data": {
      "text/plain": [
       "array([[45,  2],\n",
       "       [ 0, 67]])"
      ]
     },
     "execution_count": 39,
     "metadata": {},
     "output_type": "execute_result"
    }
   ],
   "source": [
    "confusion_matrix(y_test,y_pred)"
   ]
  },
  {
   "cell_type": "markdown",
   "metadata": {},
   "source": [
    "#### We can use parameters C=10,gamma=0.01 as chosen by grid search techniques (though no change is seen in test results)"
   ]
  },
  {
   "cell_type": "markdown",
   "metadata": {},
   "source": [
    "## XGB Classifier"
   ]
  },
  {
   "cell_type": "code",
   "execution_count": 51,
   "metadata": {},
   "outputs": [
    {
     "name": "stdout",
     "output_type": "stream",
     "text": [
      "Fitting 4 folds for each of 3 candidates, totalling 12 fits\n",
      "[CV] learning_rate=0.045, max_depth=5, n_estimators=300 ..............\n",
      "[CV] learning_rate=0.045, max_depth=5, n_estimators=300 ..............\n",
      "[CV] learning_rate=0.045, max_depth=5, n_estimators=300 ..............\n",
      "[CV] learning_rate=0.045, max_depth=5, n_estimators=300 ..............\n"
     ]
    },
    {
     "name": "stderr",
     "output_type": "stream",
     "text": [
      "/anaconda3/lib/python3.7/site-packages/sklearn/preprocessing/label.py:151: DeprecationWarning: The truth value of an empty array is ambiguous. Returning False, but in future this will result in an error. Use `array.size > 0` to check that an array is not empty.\n",
      "  if diff:\n",
      "/anaconda3/lib/python3.7/site-packages/sklearn/preprocessing/label.py:151: DeprecationWarning: The truth value of an empty array is ambiguous. Returning False, but in future this will result in an error. Use `array.size > 0` to check that an array is not empty.\n",
      "  if diff:\n"
     ]
    },
    {
     "name": "stdout",
     "output_type": "stream",
     "text": [
      "[CV]  learning_rate=0.045, max_depth=5, n_estimators=300, score=0.938596 -   0.3s\n",
      "[CV]  learning_rate=0.045, max_depth=5, n_estimators=300, score=0.982301 -   0.2s\n",
      "[CV] learning_rate=0.05, max_depth=5, n_estimators=300 ...............\n",
      "[CV] learning_rate=0.05, max_depth=5, n_estimators=300 ...............\n"
     ]
    },
    {
     "name": "stderr",
     "output_type": "stream",
     "text": [
      "/anaconda3/lib/python3.7/site-packages/sklearn/preprocessing/label.py:151: DeprecationWarning: The truth value of an empty array is ambiguous. Returning False, but in future this will result in an error. Use `array.size > 0` to check that an array is not empty.\n",
      "  if diff:\n"
     ]
    },
    {
     "name": "stdout",
     "output_type": "stream",
     "text": [
      "[CV]  learning_rate=0.045, max_depth=5, n_estimators=300, score=0.964602 -   0.4s\n",
      "[CV] learning_rate=0.05, max_depth=5, n_estimators=300 ...............\n"
     ]
    },
    {
     "name": "stderr",
     "output_type": "stream",
     "text": [
      "/anaconda3/lib/python3.7/site-packages/sklearn/preprocessing/label.py:151: DeprecationWarning: The truth value of an empty array is ambiguous. Returning False, but in future this will result in an error. Use `array.size > 0` to check that an array is not empty.\n",
      "  if diff:\n"
     ]
    },
    {
     "name": "stdout",
     "output_type": "stream",
     "text": [
      "[CV]  learning_rate=0.045, max_depth=5, n_estimators=300, score=0.956522 -   0.5s\n",
      "[CV] learning_rate=0.05, max_depth=5, n_estimators=300 ...............\n"
     ]
    },
    {
     "name": "stderr",
     "output_type": "stream",
     "text": [
      "/anaconda3/lib/python3.7/site-packages/sklearn/preprocessing/label.py:151: DeprecationWarning: The truth value of an empty array is ambiguous. Returning False, but in future this will result in an error. Use `array.size > 0` to check that an array is not empty.\n",
      "  if diff:\n"
     ]
    },
    {
     "name": "stdout",
     "output_type": "stream",
     "text": [
      "[CV]  learning_rate=0.05, max_depth=5, n_estimators=300, score=0.964602 -   0.1s\n",
      "[CV] learning_rate=0.055, max_depth=5, n_estimators=300 ..............\n"
     ]
    },
    {
     "name": "stderr",
     "output_type": "stream",
     "text": [
      "/anaconda3/lib/python3.7/site-packages/sklearn/preprocessing/label.py:151: DeprecationWarning: The truth value of an empty array is ambiguous. Returning False, but in future this will result in an error. Use `array.size > 0` to check that an array is not empty.\n",
      "  if diff:\n"
     ]
    },
    {
     "name": "stdout",
     "output_type": "stream",
     "text": [
      "[CV]  learning_rate=0.05, max_depth=5, n_estimators=300, score=0.965217 -   0.4s\n",
      "[CV] learning_rate=0.055, max_depth=5, n_estimators=300 ..............\n"
     ]
    },
    {
     "name": "stderr",
     "output_type": "stream",
     "text": [
      "/anaconda3/lib/python3.7/site-packages/sklearn/preprocessing/label.py:151: DeprecationWarning: The truth value of an empty array is ambiguous. Returning False, but in future this will result in an error. Use `array.size > 0` to check that an array is not empty.\n",
      "  if diff:\n"
     ]
    },
    {
     "name": "stdout",
     "output_type": "stream",
     "text": [
      "[CV]  learning_rate=0.05, max_depth=5, n_estimators=300, score=0.938596 -   0.4s\n",
      "[CV] learning_rate=0.055, max_depth=5, n_estimators=300 ..............\n"
     ]
    },
    {
     "name": "stderr",
     "output_type": "stream",
     "text": [
      "/anaconda3/lib/python3.7/site-packages/sklearn/preprocessing/label.py:151: DeprecationWarning: The truth value of an empty array is ambiguous. Returning False, but in future this will result in an error. Use `array.size > 0` to check that an array is not empty.\n",
      "  if diff:\n"
     ]
    },
    {
     "name": "stdout",
     "output_type": "stream",
     "text": [
      "[CV]  learning_rate=0.05, max_depth=5, n_estimators=300, score=0.982301 -   0.3s\n",
      "[CV] learning_rate=0.055, max_depth=5, n_estimators=300 ..............\n"
     ]
    },
    {
     "name": "stderr",
     "output_type": "stream",
     "text": [
      "[Parallel(n_jobs=4)]: Done   5 tasks      | elapsed:    0.6s\n",
      "[Parallel(n_jobs=4)]: Done   7 out of  12 | elapsed:    0.7s remaining:    0.5s\n",
      "/anaconda3/lib/python3.7/site-packages/sklearn/preprocessing/label.py:151: DeprecationWarning: The truth value of an empty array is ambiguous. Returning False, but in future this will result in an error. Use `array.size > 0` to check that an array is not empty.\n",
      "  if diff:\n"
     ]
    },
    {
     "name": "stdout",
     "output_type": "stream",
     "text": [
      "[CV]  learning_rate=0.055, max_depth=5, n_estimators=300, score=0.965217 -   0.4s\n"
     ]
    },
    {
     "name": "stderr",
     "output_type": "stream",
     "text": [
      "/anaconda3/lib/python3.7/site-packages/sklearn/preprocessing/label.py:151: DeprecationWarning: The truth value of an empty array is ambiguous. Returning False, but in future this will result in an error. Use `array.size > 0` to check that an array is not empty.\n",
      "  if diff:\n"
     ]
    },
    {
     "name": "stdout",
     "output_type": "stream",
     "text": [
      "[CV]  learning_rate=0.055, max_depth=5, n_estimators=300, score=0.929825 -   0.4s\n"
     ]
    },
    {
     "name": "stderr",
     "output_type": "stream",
     "text": [
      "/anaconda3/lib/python3.7/site-packages/sklearn/preprocessing/label.py:151: DeprecationWarning: The truth value of an empty array is ambiguous. Returning False, but in future this will result in an error. Use `array.size > 0` to check that an array is not empty.\n",
      "  if diff:\n"
     ]
    },
    {
     "name": "stdout",
     "output_type": "stream",
     "text": [
      "[CV]  learning_rate=0.055, max_depth=5, n_estimators=300, score=0.982301 -   0.4s\n"
     ]
    },
    {
     "name": "stderr",
     "output_type": "stream",
     "text": [
      "/anaconda3/lib/python3.7/site-packages/sklearn/preprocessing/label.py:151: DeprecationWarning: The truth value of an empty array is ambiguous. Returning False, but in future this will result in an error. Use `array.size > 0` to check that an array is not empty.\n",
      "  if diff:\n"
     ]
    },
    {
     "name": "stdout",
     "output_type": "stream",
     "text": [
      "[CV]  learning_rate=0.055, max_depth=5, n_estimators=300, score=0.973451 -   0.4s\n"
     ]
    },
    {
     "name": "stderr",
     "output_type": "stream",
     "text": [
      "[Parallel(n_jobs=4)]: Done   9 out of  12 | elapsed:    1.0s remaining:    0.3s\n",
      "[Parallel(n_jobs=4)]: Done  12 out of  12 | elapsed:    1.2s finished\n"
     ]
    },
    {
     "data": {
      "text/plain": [
       "([mean: 0.96051, std: 0.01571, params: {'learning_rate': 0.045, 'max_depth': 5, 'n_estimators': 300},\n",
       "  mean: 0.96268, std: 0.01561, params: {'learning_rate': 0.05, 'max_depth': 5, 'n_estimators': 300},\n",
       "  mean: 0.96270, std: 0.01992, params: {'learning_rate': 0.055, 'max_depth': 5, 'n_estimators': 300}],\n",
       " {'learning_rate': 0.055, 'max_depth': 5, 'n_estimators': 300},\n",
       " 0.9626985412743093)"
      ]
     },
     "execution_count": 51,
     "metadata": {},
     "output_type": "execute_result"
    }
   ],
   "source": [
    "param_test1 = {\n",
    " 'learning_rate' : [0.045,0.05,0.055],\n",
    "  'n_estimators' : [300],\n",
    "   'max_depth':[5]\n",
    "}\n",
    "\n",
    "gsearch1 = GridSearchCV(estimator =  XGBClassifier(\n",
    " subsample=0.8,\n",
    " colsample_bytree=0.8,\n",
    " objective = 'binary:logistic',\n",
    " nthread=4,\n",
    " seed=0),\n",
    "                        \n",
    "param_grid = param_test1, scoring='accuracy',n_jobs=4,iid=False, cv=4, verbose=10)\n",
    "\n",
    "\n",
    "gsearch1.fit(X_train,y_train)\n",
    "gsearch1.grid_scores_, gsearch1.best_params_, gsearch1.best_score_"
   ]
  },
  {
   "cell_type": "code",
   "execution_count": 59,
   "metadata": {},
   "outputs": [
    {
     "data": {
      "text/plain": [
       "XGBClassifier(base_score=0.5, booster='gbtree', colsample_bylevel=1,\n",
       "       colsample_bynode=1, colsample_bytree=0.8, gamma=0,\n",
       "       learning_rate=0.055, max_delta_step=0, max_depth=5,\n",
       "       min_child_weight=1, missing=None, n_estimators=300, n_jobs=1,\n",
       "       nthread=4, objective='binary:logistic', random_state=0, reg_alpha=0,\n",
       "       reg_lambda=1, scale_pos_weight=1, seed=0, silent=None,\n",
       "       subsample=0.8, verbosity=1)"
      ]
     },
     "execution_count": 59,
     "metadata": {},
     "output_type": "execute_result"
    }
   ],
   "source": [
    "model = XGBClassifier(\n",
    " learning_rate= 0.055, max_depth= 5, n_estimators=300,\n",
    " subsample=0.8,\n",
    " colsample_bytree=0.8,\n",
    " objective = 'binary:logistic',\n",
    " nthread=4,\n",
    " seed=0)\n",
    "\n",
    "model.fit(X_train,y_train)"
   ]
  },
  {
   "cell_type": "code",
   "execution_count": 60,
   "metadata": {},
   "outputs": [
    {
     "name": "stderr",
     "output_type": "stream",
     "text": [
      "/anaconda3/lib/python3.7/site-packages/sklearn/preprocessing/label.py:151: DeprecationWarning: The truth value of an empty array is ambiguous. Returning False, but in future this will result in an error. Use `array.size > 0` to check that an array is not empty.\n",
      "  if diff:\n"
     ]
    },
    {
     "data": {
      "text/plain": [
       "0.956140350877193"
      ]
     },
     "execution_count": 60,
     "metadata": {},
     "output_type": "execute_result"
    }
   ],
   "source": [
    "y_pred = model.predict(X_test)\n",
    "accuracy_score(y_pred,y_test)"
   ]
  },
  {
   "cell_type": "code",
   "execution_count": 61,
   "metadata": {},
   "outputs": [
    {
     "data": {
      "text/plain": [
       "array([[44,  3],\n",
       "       [ 2, 65]])"
      ]
     },
     "execution_count": 61,
     "metadata": {},
     "output_type": "execute_result"
    }
   ],
   "source": [
    "confusion_matrix(y_test,y_pred)"
   ]
  },
  {
   "cell_type": "code",
   "execution_count": 62,
   "metadata": {},
   "outputs": [
    {
     "data": {
      "text/plain": [
       "<matplotlib.axes._subplots.AxesSubplot at 0x1a1e7d27b8>"
      ]
     },
     "execution_count": 62,
     "metadata": {},
     "output_type": "execute_result"
    },
    {
     "data": {
      "image/png": "[encoded data removed]",
      "text/plain": [
       "<Figure size 1080x432 with 1 Axes>"
      ]
     },
     "metadata": {
      "needs_background": "light"
     },
     "output_type": "display_data"
    }
   ],
   "source": [
    "ser = pd.Series(model.feature_importances_)\n",
    "ser.index = sel_columns\n",
    "ser = ser.sort_values(ascending=False)\n",
    "ser.plot.bar(figsize=(15,6))"
   ]
  },
  {
   "cell_type": "code",
   "execution_count": 63,
   "metadata": {},
   "outputs": [
    {
     "name": "stderr",
     "output_type": "stream",
     "text": [
      "/anaconda3/lib/python3.7/site-packages/sklearn/preprocessing/label.py:151: DeprecationWarning: The truth value of an empty array is ambiguous. Returning False, but in future this will result in an error. Use `array.size > 0` to check that an array is not empty.\n",
      "  if diff:\n"
     ]
    },
    {
     "data": {
      "text/plain": [
       "1.0"
      ]
     },
     "execution_count": 63,
     "metadata": {},
     "output_type": "execute_result"
    }
   ],
   "source": [
    "accuracy_score(model.predict(X_train),y_train)"
   ]
  },
  {
   "cell_type": "code",
   "execution_count": 64,
   "metadata": {},
   "outputs": [
    {
     "name": "stderr",
     "output_type": "stream",
     "text": [
      "/anaconda3/lib/python3.7/site-packages/sklearn/preprocessing/label.py:151: DeprecationWarning: The truth value of an empty array is ambiguous. Returning False, but in future this will result in an error. Use `array.size > 0` to check that an array is not empty.\n",
      "  if diff:\n"
     ]
    },
    {
     "data": {
      "text/plain": [
       "0.956140350877193"
      ]
     },
     "execution_count": 64,
     "metadata": {},
     "output_type": "execute_result"
    }
   ],
   "source": [
    "accuracy_score(model.predict(X_test),y_test)"
   ]
  },
  {
   "cell_type": "markdown",
   "metadata": {},
   "source": [
    "#### XGB Classifier seems to provide lower performance. Modelling is almost done with SVC.\n",
    "#### We can quickly try other techniques as summarized in Data Analysis section, namely - outliers, log conversion"
   ]
  },
  {
   "cell_type": "markdown",
   "metadata": {},
   "source": [
    "## Try with removing outlier 0.1%"
   ]
  },
  {
   "cell_type": "code",
   "execution_count": 65,
   "metadata": {},
   "outputs": [],
   "source": [
    "from feature_engine.outlier_removers import Winsorizer"
   ]
  },
  {
   "cell_type": "code",
   "execution_count": 66,
   "metadata": {},
   "outputs": [
    {
     "data": {
      "text/plain": [
       "Winsorizer(distribution='gaussian', fold=3, tail='right', variables=None)"
      ]
     },
     "execution_count": 66,
     "metadata": {},
     "output_type": "execute_result"
    }
   ],
   "source": [
    "Winsorizer()"
   ]
  },
  {
   "cell_type": "code",
   "execution_count": 70,
   "metadata": {},
   "outputs": [
    {
     "data": {
      "text/plain": [
       "0.9824561403508771"
      ]
     },
     "execution_count": 70,
     "metadata": {},
     "output_type": "execute_result"
    }
   ],
   "source": [
    "X_train,X_test,y_train,y_test = train_test_split(data[sel_columns],data['target'],test_size=0.2, random_state=0)\n",
    "pipeline = Pipeline([\n",
    "    ('standard_scale',StandardScaler())\n",
    "])\n",
    "\n",
    "X_train = pipeline.fit_transform(X_train,y_train)\n",
    "X_test = pipeline.transform(X_test)\n",
    "\n",
    "model = SVC(C=10,gamma=0.01)\n",
    "model.fit(X_train,y_train)\n",
    "y_pred = model.predict(X_test)\n",
    "accuracy_score(y_pred,y_test)\n",
    "\n",
    "\n"
   ]
  },
  {
   "cell_type": "code",
   "execution_count": 76,
   "metadata": {},
   "outputs": [
    {
     "data": {
      "text/plain": [
       "0.9912280701754386"
      ]
     },
     "execution_count": 76,
     "metadata": {},
     "output_type": "execute_result"
    }
   ],
   "source": [
    "X_train,X_test,y_train,y_test = train_test_split(data[sel_columns],data['target'],test_size=0.2, random_state=0)\n",
    "pipeline = Pipeline([\n",
    "    ('outliers',Winsorizer()),\n",
    "    ('standard_scale',StandardScaler())\n",
    "])\n",
    "\n",
    "X_train = pipeline.fit_transform(X_train,y_train)\n",
    "X_test = pipeline.transform(X_test)\n",
    "\n",
    "model = SVC(C=10,gamma=0.01)\n",
    "model.fit(X_train,y_train)\n",
    "y_pred = model.predict(X_test)\n",
    "accuracy_score(y_pred,y_test)"
   ]
  },
  {
   "cell_type": "code",
   "execution_count": 77,
   "metadata": {},
   "outputs": [
    {
     "data": {
      "text/plain": [
       "array([[46,  1],\n",
       "       [ 0, 67]])"
      ]
     },
     "execution_count": 77,
     "metadata": {},
     "output_type": "execute_result"
    }
   ],
   "source": [
    "confusion_matrix(y_test,y_pred)"
   ]
  },
  {
   "cell_type": "markdown",
   "metadata": {},
   "source": [
    "#### Winsorization seems to have improved the score, lets check the results with grid search as well"
   ]
  },
  {
   "cell_type": "code",
   "execution_count": 80,
   "metadata": {},
   "outputs": [
    {
     "name": "stdout",
     "output_type": "stream",
     "text": [
      "Fitting 4 folds for each of 1 candidates, totalling 4 fits\n",
      "[CV] C=10, gamma=0.01 ................................................\n",
      "[CV] C=10, gamma=0.01 ................................................\n",
      "[CV] C=10, gamma=0.01 ................................................\n",
      "[CV] C=10, gamma=0.01 ................................................\n",
      "[CV] ....................... C=10, gamma=0.01, score=0.982609 -   0.0s\n",
      "[CV] ....................... C=10, gamma=0.01, score=0.964912 -   0.0s\n",
      "[CV] ....................... C=10, gamma=0.01, score=0.973451 -   0.0s\n",
      "[CV] ....................... C=10, gamma=0.01, score=0.982301 -   0.0s\n"
     ]
    },
    {
     "name": "stderr",
     "output_type": "stream",
     "text": [
      "[Parallel(n_jobs=4)]: Done   1 tasks      | elapsed:    0.0s\n",
      "[Parallel(n_jobs=4)]: Batch computation too fast (0.0297s.) Setting batch_size=12.\n",
      "[Parallel(n_jobs=4)]: Done   2 out of   4 | elapsed:    0.0s remaining:    0.0s\n",
      "[Parallel(n_jobs=4)]: Done   4 out of   4 | elapsed:    0.0s remaining:    0.0s\n",
      "[Parallel(n_jobs=4)]: Done   4 out of   4 | elapsed:    0.0s finished\n"
     ]
    },
    {
     "data": {
      "text/plain": [
       "([mean: 0.97582, std: 0.00729, params: {'C': 10, 'gamma': 0.01}],\n",
       " {'C': 10, 'gamma': 0.01},\n",
       " 0.9758182971858272)"
      ]
     },
     "execution_count": 80,
     "metadata": {},
     "output_type": "execute_result"
    }
   ],
   "source": [
    "## Without Winsorization\n",
    "\n",
    "X_train,X_test,y_train,y_test = train_test_split(data[sel_columns],data['target'],test_size=0.2, random_state=0)\n",
    "pipeline = Pipeline([\n",
    "    ('standard_scale',StandardScaler())\n",
    "])\n",
    "\n",
    "X_train = pipeline.fit_transform(X_train,y_train)\n",
    "X_test = pipeline.transform(X_test)\n",
    "\n",
    "\n",
    "param_test1 = {\n",
    " 'C':[10],\n",
    "  'gamma':[0.01]\n",
    "}\n",
    "\n",
    "gsearch1 = GridSearchCV(estimator =  SVC(), \n",
    "param_grid = param_test1, scoring='accuracy',n_jobs=4,iid=False, cv=4, verbose=10)\n",
    "\n",
    "\n",
    "gsearch1.fit(X_train,y_train)\n",
    "gsearch1.grid_scores_, gsearch1.best_params_, gsearch1.best_score_\n",
    "\n"
   ]
  },
  {
   "cell_type": "code",
   "execution_count": 81,
   "metadata": {},
   "outputs": [
    {
     "name": "stdout",
     "output_type": "stream",
     "text": [
      "Fitting 4 folds for each of 1 candidates, totalling 4 fits\n",
      "[CV] C=10, gamma=0.01 ................................................\n",
      "[CV] C=10, gamma=0.01 ................................................\n",
      "[CV] C=10, gamma=0.01 ................................................\n",
      "[CV] C=10, gamma=0.01 ................................................\n",
      "[CV] ....................... C=10, gamma=0.01, score=0.991304 -   0.0s\n",
      "[CV] ....................... C=10, gamma=0.01, score=0.964912 -   0.0s\n",
      "[CV] ....................... C=10, gamma=0.01, score=0.982301 -   0.0s\n",
      "[CV] ....................... C=10, gamma=0.01, score=0.982301 -   0.0s\n"
     ]
    },
    {
     "name": "stderr",
     "output_type": "stream",
     "text": [
      "[Parallel(n_jobs=4)]: Done   1 tasks      | elapsed:    0.0s\n",
      "[Parallel(n_jobs=4)]: Batch computation too fast (0.0280s.) Setting batch_size=14.\n",
      "[Parallel(n_jobs=4)]: Done   2 out of   4 | elapsed:    0.0s remaining:    0.0s\n",
      "[Parallel(n_jobs=4)]: Done   4 out of   4 | elapsed:    0.0s remaining:    0.0s\n",
      "[Parallel(n_jobs=4)]: Done   4 out of   4 | elapsed:    0.0s finished\n"
     ]
    },
    {
     "data": {
      "text/plain": [
       "([mean: 0.98020, std: 0.00956, params: {'C': 10, 'gamma': 0.01}],\n",
       " {'C': 10, 'gamma': 0.01},\n",
       " 0.9802045996098364)"
      ]
     },
     "execution_count": 81,
     "metadata": {},
     "output_type": "execute_result"
    }
   ],
   "source": [
    "## With Winsorization\n",
    "\n",
    "X_train,X_test,y_train,y_test = train_test_split(data[sel_columns],data['target'],test_size=0.2, random_state=0)\n",
    "pipeline = Pipeline([\n",
    "    ('outliers',Winsorizer()),\n",
    "    ('standard_scale',StandardScaler())\n",
    "])\n",
    "\n",
    "X_train = pipeline.fit_transform(X_train,y_train)\n",
    "X_test = pipeline.transform(X_test)\n",
    "\n",
    "\n",
    "param_test1 = {\n",
    " 'C':[10],\n",
    "  'gamma':[0.01]\n",
    "}\n",
    "\n",
    "gsearch1 = GridSearchCV(estimator =  SVC(), \n",
    "param_grid = param_test1, scoring='accuracy',n_jobs=4,iid=False, cv=4, verbose=10)\n",
    "\n",
    "\n",
    "gsearch1.fit(X_train,y_train)\n",
    "gsearch1.grid_scores_, gsearch1.best_params_, gsearch1.best_score_\n",
    "\n",
    "\n"
   ]
  },
  {
   "cell_type": "markdown",
   "metadata": {},
   "source": [
    "#### Grid search confirms the improvement with winsorization"
   ]
  },
  {
   "cell_type": "markdown",
   "metadata": {},
   "source": [
    "## Try converting values to Log"
   ]
  },
  {
   "cell_type": "code",
   "execution_count": 84,
   "metadata": {},
   "outputs": [],
   "source": [
    "LogCols = (data[sel_columns].min() > 0)"
   ]
  },
  {
   "cell_type": "code",
   "execution_count": 85,
   "metadata": {},
   "outputs": [],
   "source": [
    "Log_Columns = LogCols[LogCols == True].index.to_list()"
   ]
  },
  {
   "cell_type": "code",
   "execution_count": 87,
   "metadata": {},
   "outputs": [
    {
     "data": {
      "text/plain": [
       "['mean radius',\n",
       " 'mean texture',\n",
       " 'mean smoothness',\n",
       " 'mean compactness',\n",
       " 'mean symmetry',\n",
       " 'mean fractal dimension',\n",
       " 'radius error',\n",
       " 'texture error',\n",
       " 'smoothness error',\n",
       " 'compactness error',\n",
       " 'symmetry error',\n",
       " 'fractal dimension error',\n",
       " 'worst smoothness',\n",
       " 'worst compactness',\n",
       " 'worst symmetry',\n",
       " 'worst fractal dimension']"
      ]
     },
     "execution_count": 87,
     "metadata": {},
     "output_type": "execute_result"
    }
   ],
   "source": [
    "Log_Columns # Convert only these columns to log"
   ]
  },
  {
   "cell_type": "code",
   "execution_count": 91,
   "metadata": {},
   "outputs": [
    {
     "data": {
      "text/plain": [
       "0.9912280701754386"
      ]
     },
     "execution_count": 91,
     "metadata": {},
     "output_type": "execute_result"
    }
   ],
   "source": [
    "data1=data.copy() # Perform convertion on a copy\n",
    "data1[Log_Columns] = np.log(data1[Log_Columns])\n",
    "\n",
    "X_train,X_test,y_train,y_test = train_test_split(data1[sel_columns],data1['target'],test_size=0.2, random_state=0)\n",
    "\n",
    "\n",
    "pipeline = Pipeline([\n",
    "    ('outliers',Winsorizer()),\n",
    "    ('standard_scale',StandardScaler())\n",
    "])\n",
    "\n",
    "X_train = pipeline.fit_transform(X_train,y_train)\n",
    "X_test = pipeline.transform(X_test)\n",
    "\n",
    "model = SVC(C=10,gamma=0.01)\n",
    "model.fit(X_train,y_train)\n",
    "y_pred = model.predict(X_test)\n",
    "accuracy_score(y_pred,y_test)\n",
    "\n",
    "\n",
    "\n"
   ]
  },
  {
   "cell_type": "markdown",
   "metadata": {},
   "source": [
    "#### No improvement seen with log conversion, lets confirm with grid search as well"
   ]
  },
  {
   "cell_type": "code",
   "execution_count": 92,
   "metadata": {},
   "outputs": [
    {
     "name": "stdout",
     "output_type": "stream",
     "text": [
      "Fitting 4 folds for each of 1 candidates, totalling 4 fits\n",
      "[CV] C=10, gamma=0.01 ................................................\n",
      "[CV] C=10, gamma=0.01 ................................................\n",
      "[CV] C=10, gamma=0.01 ................................................\n",
      "[CV] C=10, gamma=0.01 ................................................\n",
      "[CV] ....................... C=10, gamma=0.01, score=0.991304 -   0.0s\n",
      "[CV] ....................... C=10, gamma=0.01, score=0.964912 -   0.0s\n",
      "[CV] ....................... C=10, gamma=0.01, score=0.982301 -   0.0s\n",
      "[CV] ....................... C=10, gamma=0.01, score=0.982301 -   0.0s\n"
     ]
    },
    {
     "name": "stderr",
     "output_type": "stream",
     "text": [
      "[Parallel(n_jobs=4)]: Done   1 tasks      | elapsed:    0.0s\n",
      "[Parallel(n_jobs=4)]: Batch computation too fast (0.0262s.) Setting batch_size=14.\n",
      "[Parallel(n_jobs=4)]: Done   2 out of   4 | elapsed:    0.0s remaining:    0.0s\n",
      "[Parallel(n_jobs=4)]: Done   4 out of   4 | elapsed:    0.0s remaining:    0.0s\n",
      "[Parallel(n_jobs=4)]: Done   4 out of   4 | elapsed:    0.0s finished\n"
     ]
    },
    {
     "data": {
      "text/plain": [
       "([mean: 0.98020, std: 0.00956, params: {'C': 10, 'gamma': 0.01}],\n",
       " {'C': 10, 'gamma': 0.01},\n",
       " 0.9802045996098364)"
      ]
     },
     "execution_count": 92,
     "metadata": {},
     "output_type": "execute_result"
    }
   ],
   "source": [
    "## Without Log conversion\n",
    "\n",
    "X_train,X_test,y_train,y_test = train_test_split(data[sel_columns],data['target'],test_size=0.2, random_state=0)\n",
    "pipeline = Pipeline([\n",
    "    ('outliers',Winsorizer()),\n",
    "    ('standard_scale',StandardScaler())\n",
    "])\n",
    "\n",
    "X_train = pipeline.fit_transform(X_train,y_train)\n",
    "X_test = pipeline.transform(X_test)\n",
    "\n",
    "\n",
    "param_test1 = {\n",
    " 'C':[10],\n",
    "  'gamma':[0.01]\n",
    "}\n",
    "\n",
    "gsearch1 = GridSearchCV(estimator =  SVC(), \n",
    "param_grid = param_test1, scoring='accuracy',n_jobs=4,iid=False, cv=4, verbose=10)\n",
    "\n",
    "\n",
    "gsearch1.fit(X_train,y_train)\n",
    "gsearch1.grid_scores_, gsearch1.best_params_, gsearch1.best_score_"
   ]
  },
  {
   "cell_type": "code",
   "execution_count": 94,
   "metadata": {},
   "outputs": [
    {
     "name": "stdout",
     "output_type": "stream",
     "text": [
      "Fitting 4 folds for each of 1 candidates, totalling 4 fits\n",
      "[CV] C=10, gamma=0.01 ................................................\n",
      "[CV] C=10, gamma=0.01 ................................................\n",
      "[CV] C=10, gamma=0.01 ................................................\n",
      "[CV] C=10, gamma=0.01 ................................................\n",
      "[CV] ....................... C=10, gamma=0.01, score=0.982609 -   0.0s\n",
      "[CV] ....................... C=10, gamma=0.01, score=0.947368 -   0.0s\n",
      "[CV] ....................... C=10, gamma=0.01, score=0.973451 -   0.0s\n",
      "[CV] ....................... C=10, gamma=0.01, score=0.982301 -   0.0s\n"
     ]
    },
    {
     "name": "stderr",
     "output_type": "stream",
     "text": [
      "[Parallel(n_jobs=4)]: Done   1 tasks      | elapsed:    0.0s\n",
      "[Parallel(n_jobs=4)]: Batch computation too fast (0.0243s.) Setting batch_size=16.\n",
      "[Parallel(n_jobs=4)]: Done   2 out of   4 | elapsed:    0.0s remaining:    0.0s\n",
      "[Parallel(n_jobs=4)]: Done   4 out of   4 | elapsed:    0.0s remaining:    0.0s\n",
      "[Parallel(n_jobs=4)]: Done   4 out of   4 | elapsed:    0.0s finished\n"
     ]
    },
    {
     "data": {
      "text/plain": [
       "([mean: 0.97143, std: 0.01437, params: {'C': 10, 'gamma': 0.01}],\n",
       " {'C': 10, 'gamma': 0.01},\n",
       " 0.9714323322735464)"
      ]
     },
     "execution_count": 94,
     "metadata": {},
     "output_type": "execute_result"
    }
   ],
   "source": [
    "## With Log conversion\n",
    "\n",
    "X_train,X_test,y_train,y_test = train_test_split(data1[sel_columns],data['target'],test_size=0.2, random_state=0)\n",
    "\n",
    "pipeline = Pipeline([\n",
    "    ('outliers',Winsorizer()),\n",
    "    ('standard_scale',StandardScaler())\n",
    "])\n",
    "\n",
    "X_train = pipeline.fit_transform(X_train,y_train)\n",
    "X_test = pipeline.transform(X_test)\n",
    "\n",
    "\n",
    "param_test1 = {\n",
    " 'C':[10],\n",
    "  'gamma':[0.01]\n",
    "}\n",
    "\n",
    "gsearch1 = GridSearchCV(estimator =  SVC(), \n",
    "param_grid = param_test1, scoring='accuracy',n_jobs=4,iid=False, cv=4, verbose=10)\n",
    "\n",
    "\n",
    "gsearch1.fit(X_train,y_train)\n",
    "gsearch1.grid_scores_, gsearch1.best_params_, gsearch1.best_score_\n"
   ]
  },
  {
   "cell_type": "markdown",
   "metadata": {},
   "source": [
    "#### Overall score seems to have reduced. Hence we wont use Log transformation"
   ]
  },
  {
   "cell_type": "markdown",
   "metadata": {},
   "source": [
    "# Final Model and CV Score"
   ]
  },
  {
   "cell_type": "code",
   "execution_count": 101,
   "metadata": {},
   "outputs": [
    {
     "data": {
      "text/plain": [
       "0.9912280701754386"
      ]
     },
     "execution_count": 101,
     "metadata": {},
     "output_type": "execute_result"
    }
   ],
   "source": [
    "X_train,X_test,y_train,y_test = train_test_split(data[sel_columns],data['target'],test_size=0.2, random_state=0)\n",
    "pipeline = Pipeline([\n",
    "    ('outliers',Winsorizer()),\n",
    "    ('standard_scale',StandardScaler())\n",
    "])\n",
    "\n",
    "X_train = pipeline.fit_transform(X_train,y_train)\n",
    "X_test = pipeline.transform(X_test)\n",
    "\n",
    "model = SVC(C=10,gamma=0.01)\n",
    "model.fit(X_train,y_train)\n",
    "y_pred = model.predict(X_test)\n",
    "accuracy_score(y_pred,y_test)"
   ]
  },
  {
   "cell_type": "code",
   "execution_count": null,
   "metadata": {},
   "outputs": [],
   "source": []
  }
 ],
 "metadata": {
  "kernelspec": {
   "display_name": "Python 3",
   "language": "python",
   "name": "python3"
  },
  "language_info": {
   "codemirror_mode": {
    "name": "ipython",
    "version": 3
   },
   "file_extension": ".py",
   "mimetype": "text/x-python",
   "name": "python",
   "nbconvert_exporter": "python",
   "pygments_lexer": "ipython3",
   "version": "3.7.0"
  }
 },
 "nbformat": 4,
 "nbformat_minor": 2
}
